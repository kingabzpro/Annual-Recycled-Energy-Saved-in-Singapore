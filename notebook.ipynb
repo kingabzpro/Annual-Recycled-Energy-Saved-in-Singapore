{
 "cells": [
  {
   "cell_type": "markdown",
   "source": "# Annual Recycled Energy Saved in Singapore\n*Learn how much Singapore is saving energy per years by recycling plastics, paper, glass, ferrous and non-ferrous metal.*",
   "metadata": {
    "tags": [],
    "cell_id": "00000-9934150f-7778-4e0b-a77b-abb7dd58c037",
    "deepnote_cell_type": "markdown"
   }
  },
  {
   "cell_type": "markdown",
   "source": "![Picture title](image-20210817-090523.png)",
   "metadata": {
    "tags": [],
    "cell_id": "00001-be7167d8-ddd6-44f8-8ac0-167236535db1",
    "deepnote_cell_type": "markdown"
   }
  },
  {
   "cell_type": "markdown",
   "source": "In this project, we will clean our data and prepares for data analysis. We will be using [Singapore NEA Energy Savings | Kaggle](https://www.kaggle.com/eminbasturk/singapore-nea-energy-savings) data to analyze the total garbage collection and recycling rate. The material names are different as these data were collected from different resources. We will be added the latest data of 2020 [waste-statistics-and-overall-recycling](https://www.nea.gov.sg/our-services/waste-management/waste-statistics-and-overall-recycling) from the website so that we can have the latest statics analysis. We will be finding how much energy we can produce using [Greentumble](https://greentumble.com/how-does-recycling-save-energy/) key information.\n\nWe will be using **Recycling statistics** to calculate energy saved every year from 2003 to 2020 based on five waste types, plastics, paper, glass, ferrous and non-ferrous metal.",
   "metadata": {
    "tags": [],
    "cell_id": "00002-da3e2d43-7274-47c3-ac6d-548c7869499e",
    "deepnote_cell_type": "markdown"
   }
  },
  {
   "cell_type": "markdown",
   "source": "## Loading Data",
   "metadata": {
    "tags": [],
    "cell_id": "00003-15923db1-30ca-4aee-9100-a2e36f2c8254",
    "deepnote_cell_type": "markdown"
   }
  },
  {
   "cell_type": "code",
   "metadata": {
    "dc": {
     "key": "4"
    },
    "tags": [
     "sample_code"
    ],
    "trusted": true,
    "collapsed": true,
    "cell_id": "00001-4c8eb121-86c9-4fc5-b22f-8fbe5836ee84",
    "deepnote_to_be_reexecuted": false,
    "source_hash": "dbb6803c",
    "execution_start": 1629195000526,
    "execution_millis": 1854,
    "allow_embed": "code_output",
    "deepnote_cell_type": "code"
   },
   "source": "import pandas as pd\nimport plotly.express as px\nimport plotly.graph_objects as go\n\nenergy_saved = pd.read_csv('./Data/energy_saved.csv')\nwaste_03_17 = pd.read_csv('./Data/wastestats.csv')\nwaste_18_20 = pd.read_csv('./Data/2018_2020_waste.csv')",
   "outputs": [],
   "execution_count": 1
  },
  {
   "cell_type": "markdown",
   "source": "## Cleaning Data",
   "metadata": {
    "tags": [],
    "cell_id": "00005-ed633e35-53e8-4f11-a6d9-ece9723fad9b",
    "deepnote_cell_type": "markdown"
   }
  },
  {
   "cell_type": "code",
   "metadata": {
    "dc": {
     "key": "4"
    },
    "trusted": true,
    "collapsed": true,
    "cell_id": "00002-8abe5d4a-0b6b-4184-a920-e5b76827d7d0",
    "deepnote_to_be_reexecuted": false,
    "source_hash": "5b33c50b",
    "execution_start": 1629195002392,
    "execution_millis": 9,
    "allow_embed": "code_output",
    "deepnote_cell_type": "code"
   },
   "source": "clean_waste_18_20 = waste_18_20.rename(\n    columns={\n        \"Waste Type\": \"waste_type\",\n        \"Total Generated ('000 tonnes)\": \"total_waste_generated_tonne\",\n        \"Total Recycled ('000 tonnes)\": \"total_waste_recycled_tonne\",\n        \"Year\": \"year\",\n    }\n)\nclean_waste_18_20[\"total_waste_generated_tonne\"] = (\n    clean_waste_18_20[\"total_waste_generated_tonne\"] * 1000\n)\nclean_waste_18_20[\"total_waste_recycled_tonne\"] = (\n    clean_waste_18_20[\"total_waste_recycled_tonne\"] * 1000\n)\n",
   "outputs": [],
   "execution_count": 2
  },
  {
   "cell_type": "markdown",
   "source": "https://greentumble.com/how-does-recycling-save-energy/",
   "metadata": {
    "tags": [],
    "cell_id": "00003-41bf9be9-52f5-4d0e-bf6a-dafc308d7e28",
    "deepnote_cell_type": "markdown"
   }
  },
  {
   "cell_type": "code",
   "metadata": {
    "tags": [],
    "cell_id": "00005-aa0f06cb-e58b-4d95-91d0-a40536dc72fe",
    "deepnote_to_be_reexecuted": false,
    "source_hash": "8824205",
    "execution_start": 1629195002413,
    "execution_millis": 58,
    "allow_embed": "code_output",
    "deepnote_cell_type": "code"
   },
   "source": "energy_saved",
   "outputs": [
    {
     "output_type": "execute_result",
     "execution_count": 3,
     "data": {
      "application/vnd.deepnote.dataframe.v2+json": {
       "row_count": 5,
       "column_count": 6,
       "columns": [
        {
         "name": "The table gives the amount of energy saved in kilowatt hour (kWh) and the amount of crude oil (barrels) by recycling 1 metric tonne (1000 kilogram)  per waste type",
         "dtype": "object",
         "stats": {
          "unique_count": 4,
          "nan_count": 1,
          "categories": [
           {
            "name": "1 barrel oil is approximately 159 litres of oil",
            "count": 1
           },
           {
            "name": "3 others",
            "count": 3
           },
           {
            "name": "Missing",
            "count": 1
           }
          ]
         }
        },
        {
         "name": "Unnamed: 1",
         "dtype": "object",
         "stats": {
          "unique_count": 3,
          "nan_count": 2,
          "categories": [
           {
            "name": "Plastic",
            "count": 1
           },
           {
            "name": "2 others",
            "count": 2
           },
           {
            "name": "Missing",
            "count": 2
           }
          ]
         }
        },
        {
         "name": "Unnamed: 2",
         "dtype": "object",
         "stats": {
          "unique_count": 3,
          "nan_count": 2,
          "categories": [
           {
            "name": "Glass",
            "count": 1
           },
           {
            "name": "2 others",
            "count": 2
           },
           {
            "name": "Missing",
            "count": 2
           }
          ]
         }
        },
        {
         "name": "Unnamed: 3",
         "dtype": "object",
         "stats": {
          "unique_count": 3,
          "nan_count": 2,
          "categories": [
           {
            "name": "Ferrous Metal",
            "count": 1
           },
           {
            "name": "2 others",
            "count": 2
           },
           {
            "name": "Missing",
            "count": 2
           }
          ]
         }
        },
        {
         "name": "Unnamed: 4",
         "dtype": "object",
         "stats": {
          "unique_count": 3,
          "nan_count": 2,
          "categories": [
           {
            "name": "Non-Ferrous Metal",
            "count": 1
           },
           {
            "name": "2 others",
            "count": 2
           },
           {
            "name": "Missing",
            "count": 2
           }
          ]
         }
        },
        {
         "name": "Unnamed: 5",
         "dtype": "object",
         "stats": {
          "unique_count": 3,
          "nan_count": 2,
          "categories": [
           {
            "name": "Paper",
            "count": 1
           },
           {
            "name": "2 others",
            "count": 2
           },
           {
            "name": "Missing",
            "count": 2
           }
          ]
         }
        },
        {
         "name": "_deepnote_index_column",
         "dtype": "int64"
        }
       ],
       "rows_top": [
        {
         "The table gives the amount of energy saved in kilowatt hour (kWh) and the amount of crude oil (barrels) by recycling 1 metric tonne (1000 kilogram)  per waste type": "1 barrel oil is approximately 159 litres of oil",
         "Unnamed: 1": "nan",
         "Unnamed: 2": "nan",
         "Unnamed: 3": "nan",
         "Unnamed: 4": "nan",
         "Unnamed: 5": "nan",
         "_deepnote_index_column": 0
        },
        {
         "The table gives the amount of energy saved in kilowatt hour (kWh) and the amount of crude oil (barrels) by recycling 1 metric tonne (1000 kilogram)  per waste type": "nan",
         "Unnamed: 1": "nan",
         "Unnamed: 2": "nan",
         "Unnamed: 3": "nan",
         "Unnamed: 4": "nan",
         "Unnamed: 5": "nan",
         "_deepnote_index_column": 1
        },
        {
         "The table gives the amount of energy saved in kilowatt hour (kWh) and the amount of crude oil (barrels) by recycling 1 metric tonne (1000 kilogram)  per waste type": "material",
         "Unnamed: 1": "Plastic",
         "Unnamed: 2": "Glass",
         "Unnamed: 3": "Ferrous Metal",
         "Unnamed: 4": "Non-Ferrous Metal",
         "Unnamed: 5": "Paper",
         "_deepnote_index_column": 2
        },
        {
         "The table gives the amount of energy saved in kilowatt hour (kWh) and the amount of crude oil (barrels) by recycling 1 metric tonne (1000 kilogram)  per waste type": "energy_saved",
         "Unnamed: 1": "5774 Kwh",
         "Unnamed: 2": "42 Kwh",
         "Unnamed: 3": "642 Kwh",
         "Unnamed: 4": "14000 Kwh",
         "Unnamed: 5": "4100 kWh",
         "_deepnote_index_column": 3
        },
        {
         "The table gives the amount of energy saved in kilowatt hour (kWh) and the amount of crude oil (barrels) by recycling 1 metric tonne (1000 kilogram)  per waste type": "crude_oil saved",
         "Unnamed: 1": "16 barrels",
         "Unnamed: 2": "0.12 barrels",
         "Unnamed: 3": "1.8 barrels",
         "Unnamed: 4": "40 barrels",
         "Unnamed: 5": "11 barrels",
         "_deepnote_index_column": 4
        }
       ],
       "rows_bottom": null
      },
      "text/plain": "  The table gives the amount of energy saved in kilowatt hour (kWh) and the amount of crude oil (barrels) by recycling 1 metric tonne (1000 kilogram)  per waste type  \\\n0    1 barrel oil is approximately 159 litres of oil                                                                                                                    \n1                                                NaN                                                                                                                    \n2                                           material                                                                                                                    \n3                                       energy_saved                                                                                                                    \n4                                    crude_oil saved                                                                                                                    \n\n   Unnamed: 1    Unnamed: 2     Unnamed: 3         Unnamed: 4  Unnamed: 5  \n0         NaN           NaN            NaN                NaN         NaN  \n1         NaN           NaN            NaN                NaN         NaN  \n2     Plastic         Glass  Ferrous Metal  Non-Ferrous Metal       Paper  \n3    5774 Kwh        42 Kwh        642 Kwh          14000 Kwh    4100 kWh  \n4  16 barrels  0.12 barrels    1.8 barrels         40 barrels  11 barrels  ",
      "text/html": "<div>\n<style scoped>\n    .dataframe tbody tr th:only-of-type {\n        vertical-align: middle;\n    }\n\n    .dataframe tbody tr th {\n        vertical-align: top;\n    }\n\n    .dataframe thead th {\n        text-align: right;\n    }\n</style>\n<table border=\"1\" class=\"dataframe\">\n  <thead>\n    <tr style=\"text-align: right;\">\n      <th></th>\n      <th>The table gives the amount of energy saved in kilowatt hour (kWh) and the amount of crude oil (barrels) by recycling 1 metric tonne (1000 kilogram)  per waste type</th>\n      <th>Unnamed: 1</th>\n      <th>Unnamed: 2</th>\n      <th>Unnamed: 3</th>\n      <th>Unnamed: 4</th>\n      <th>Unnamed: 5</th>\n    </tr>\n  </thead>\n  <tbody>\n    <tr>\n      <th>0</th>\n      <td>1 barrel oil is approximately 159 litres of oil</td>\n      <td>NaN</td>\n      <td>NaN</td>\n      <td>NaN</td>\n      <td>NaN</td>\n      <td>NaN</td>\n    </tr>\n    <tr>\n      <th>1</th>\n      <td>NaN</td>\n      <td>NaN</td>\n      <td>NaN</td>\n      <td>NaN</td>\n      <td>NaN</td>\n      <td>NaN</td>\n    </tr>\n    <tr>\n      <th>2</th>\n      <td>material</td>\n      <td>Plastic</td>\n      <td>Glass</td>\n      <td>Ferrous Metal</td>\n      <td>Non-Ferrous Metal</td>\n      <td>Paper</td>\n    </tr>\n    <tr>\n      <th>3</th>\n      <td>energy_saved</td>\n      <td>5774 Kwh</td>\n      <td>42 Kwh</td>\n      <td>642 Kwh</td>\n      <td>14000 Kwh</td>\n      <td>4100 kWh</td>\n    </tr>\n    <tr>\n      <th>4</th>\n      <td>crude_oil saved</td>\n      <td>16 barrels</td>\n      <td>0.12 barrels</td>\n      <td>1.8 barrels</td>\n      <td>40 barrels</td>\n      <td>11 barrels</td>\n    </tr>\n  </tbody>\n</table>\n</div>"
     },
     "metadata": {}
    }
   ],
   "execution_count": 3
  },
  {
   "cell_type": "markdown",
   "source": "- Transpose\n- Removed first two columns and first row\n- Resetting index\n- Renaming the columns\n\nAs you can see, we have three columns, material, energy_saved, and crude_oil_saved.",
   "metadata": {
    "tags": [],
    "cell_id": "00009-5585297d-713c-4fb6-b954-ccc1e65ff978",
    "deepnote_cell_type": "markdown"
   }
  },
  {
   "cell_type": "code",
   "metadata": {
    "dc": {
     "key": "4"
    },
    "trusted": true,
    "collapsed": true,
    "cell_id": "00003-54216ec5-9494-40f3-832f-7ffcff3dc793",
    "deepnote_to_be_reexecuted": false,
    "source_hash": "d542d784",
    "execution_start": 1629195002465,
    "execution_millis": 55,
    "allow_embed": "code_output",
    "deepnote_cell_type": "code"
   },
   "source": "clean_energy_saved = (\n    energy_saved.T.iloc[1:, 2:]\n    .reset_index(drop=True)\n    .rename(columns={2: \"material\", 3: \"energy_saved\", 4: \"crude_oil_saved\"})\n)\nclean_energy_saved",
   "outputs": [
    {
     "output_type": "execute_result",
     "execution_count": 4,
     "data": {
      "application/vnd.deepnote.dataframe.v2+json": {
       "row_count": 5,
       "column_count": 3,
       "columns": [
        {
         "name": "material",
         "dtype": "object",
         "stats": {
          "unique_count": 5,
          "nan_count": 0,
          "categories": [
           {
            "name": "Plastic",
            "count": 1
           },
           {
            "name": "Glass",
            "count": 1
           },
           {
            "name": "3 others",
            "count": 3
           }
          ]
         }
        },
        {
         "name": "energy_saved",
         "dtype": "object",
         "stats": {
          "unique_count": 5,
          "nan_count": 0,
          "categories": [
           {
            "name": "5774 Kwh",
            "count": 1
           },
           {
            "name": "42 Kwh",
            "count": 1
           },
           {
            "name": "3 others",
            "count": 3
           }
          ]
         }
        },
        {
         "name": "crude_oil_saved",
         "dtype": "object",
         "stats": {
          "unique_count": 5,
          "nan_count": 0,
          "categories": [
           {
            "name": "16 barrels",
            "count": 1
           },
           {
            "name": "0.12 barrels",
            "count": 1
           },
           {
            "name": "3 others",
            "count": 3
           }
          ]
         }
        },
        {
         "name": "_deepnote_index_column",
         "dtype": "int64"
        }
       ],
       "rows_top": [
        {
         "material": "Plastic",
         "energy_saved": "5774 Kwh",
         "crude_oil_saved": "16 barrels",
         "_deepnote_index_column": 0
        },
        {
         "material": "Glass",
         "energy_saved": "42 Kwh",
         "crude_oil_saved": "0.12 barrels",
         "_deepnote_index_column": 1
        },
        {
         "material": "Ferrous Metal",
         "energy_saved": "642 Kwh",
         "crude_oil_saved": "1.8 barrels",
         "_deepnote_index_column": 2
        },
        {
         "material": "Non-Ferrous Metal",
         "energy_saved": "14000 Kwh",
         "crude_oil_saved": "40 barrels",
         "_deepnote_index_column": 3
        },
        {
         "material": "Paper",
         "energy_saved": "4100 kWh",
         "crude_oil_saved": "11 barrels",
         "_deepnote_index_column": 4
        }
       ],
       "rows_bottom": null
      },
      "text/plain": "            material energy_saved crude_oil_saved\n0            Plastic     5774 Kwh      16 barrels\n1              Glass       42 Kwh    0.12 barrels\n2      Ferrous Metal      642 Kwh     1.8 barrels\n3  Non-Ferrous Metal    14000 Kwh      40 barrels\n4              Paper     4100 kWh      11 barrels",
      "text/html": "<div>\n<style scoped>\n    .dataframe tbody tr th:only-of-type {\n        vertical-align: middle;\n    }\n\n    .dataframe tbody tr th {\n        vertical-align: top;\n    }\n\n    .dataframe thead th {\n        text-align: right;\n    }\n</style>\n<table border=\"1\" class=\"dataframe\">\n  <thead>\n    <tr style=\"text-align: right;\">\n      <th></th>\n      <th>material</th>\n      <th>energy_saved</th>\n      <th>crude_oil_saved</th>\n    </tr>\n  </thead>\n  <tbody>\n    <tr>\n      <th>0</th>\n      <td>Plastic</td>\n      <td>5774 Kwh</td>\n      <td>16 barrels</td>\n    </tr>\n    <tr>\n      <th>1</th>\n      <td>Glass</td>\n      <td>42 Kwh</td>\n      <td>0.12 barrels</td>\n    </tr>\n    <tr>\n      <th>2</th>\n      <td>Ferrous Metal</td>\n      <td>642 Kwh</td>\n      <td>1.8 barrels</td>\n    </tr>\n    <tr>\n      <th>3</th>\n      <td>Non-Ferrous Metal</td>\n      <td>14000 Kwh</td>\n      <td>40 barrels</td>\n    </tr>\n    <tr>\n      <th>4</th>\n      <td>Paper</td>\n      <td>4100 kWh</td>\n      <td>11 barrels</td>\n    </tr>\n  </tbody>\n</table>\n</div>"
     },
     "metadata": {}
    }
   ],
   "execution_count": 4
  },
  {
   "cell_type": "code",
   "metadata": {
    "dc": {
     "key": "4"
    },
    "trusted": true,
    "collapsed": true,
    "cell_id": "00004-01695c9f-f4d0-4b21-a871-e91b9dee5669",
    "deepnote_to_be_reexecuted": false,
    "source_hash": "566a2ebc",
    "execution_start": 1629195002493,
    "execution_millis": 0,
    "allow_embed": "code_output",
    "deepnote_cell_type": "code"
   },
   "source": "clean_waste_03_17 = waste_03_17.loc[\n    :,\n    [\n        \"waste_type\",\n        \"total_waste_generated_tonne\",\n        \"total_waste_recycled_tonne\",\n        \"recycling_rate\",\n        \"year\",\n    ],\n]\n",
   "outputs": [],
   "execution_count": 5
  },
  {
   "cell_type": "code",
   "metadata": {
    "tags": [],
    "cell_id": "00005-d1461bf4-a8f1-4e53-b315-71ecabb1f698",
    "deepnote_to_be_reexecuted": false,
    "source_hash": "30b1209b",
    "execution_start": 1629195002501,
    "execution_millis": 1,
    "deepnote_cell_type": "code"
   },
   "source": "# clean_waste.iloc[16,2] = 1260000",
   "outputs": [],
   "execution_count": 6
  },
  {
   "cell_type": "markdown",
   "source": "Let's add recycling rate into our DataFrame as we will be using it later to analysis.",
   "metadata": {
    "tags": [],
    "cell_id": "00013-1b805cec-27e9-4ff3-bb2b-d8c4adfea8ff",
    "deepnote_cell_type": "markdown"
   }
  },
  {
   "cell_type": "code",
   "metadata": {
    "tags": [],
    "cell_id": "00005-57c0aeda-e284-457a-842d-9374409852c2",
    "deepnote_to_be_reexecuted": false,
    "source_hash": "65b504f",
    "execution_start": 1629195002535,
    "execution_millis": 21,
    "allow_embed": "code_output",
    "deepnote_cell_type": "code"
   },
   "source": "clean_waste_18_20[\"recycling_rate\"] = round(\n    clean_waste_18_20[\"total_waste_recycled_tonne\"]\n    / clean_waste_18_20[\"total_waste_generated_tonne\"],\n    2,\n)\nclean_waste_18_20.head()",
   "outputs": [
    {
     "output_type": "execute_result",
     "execution_count": 7,
     "data": {
      "application/vnd.deepnote.dataframe.v2+json": {
       "row_count": 5,
       "column_count": 5,
       "columns": [
        {
         "name": "waste_type",
         "dtype": "object",
         "stats": {
          "unique_count": 5,
          "nan_count": 0,
          "categories": [
           {
            "name": "Construction& Demolition",
            "count": 1
           },
           {
            "name": "Ferrous Metal",
            "count": 1
           },
           {
            "name": "3 others",
            "count": 3
           }
          ]
         }
        },
        {
         "name": "total_waste_generated_tonne",
         "dtype": "int64",
         "stats": {
          "unique_count": 5,
          "nan_count": 0,
          "min": "763000",
          "max": "1624000",
          "histogram": [
           {
            "bin_start": 763000,
            "bin_end": 849100,
            "count": 1
           },
           {
            "bin_start": 849100,
            "bin_end": 935200,
            "count": 0
           },
           {
            "bin_start": 935200,
            "bin_end": 1021300,
            "count": 1
           },
           {
            "bin_start": 1021300,
            "bin_end": 1107400,
            "count": 1
           },
           {
            "bin_start": 1107400,
            "bin_end": 1193500,
            "count": 0
           },
           {
            "bin_start": 1193500,
            "bin_end": 1279600,
            "count": 1
           },
           {
            "bin_start": 1279600,
            "bin_end": 1365700,
            "count": 0
           },
           {
            "bin_start": 1365700,
            "bin_end": 1451800,
            "count": 0
           },
           {
            "bin_start": 1451800,
            "bin_end": 1537900,
            "count": 0
           },
           {
            "bin_start": 1537900,
            "bin_end": 1624000,
            "count": 1
           }
          ]
         }
        },
        {
         "name": "total_waste_recycled_tonne",
         "dtype": "int64",
         "stats": {
          "unique_count": 4,
          "nan_count": 0,
          "min": "41000",
          "max": "1618000",
          "histogram": [
           {
            "bin_start": 41000,
            "bin_end": 198700,
            "count": 3
           },
           {
            "bin_start": 198700,
            "bin_end": 356400,
            "count": 0
           },
           {
            "bin_start": 356400,
            "bin_end": 514100,
            "count": 0
           },
           {
            "bin_start": 514100,
            "bin_end": 671800,
            "count": 1
           },
           {
            "bin_start": 671800,
            "bin_end": 829500,
            "count": 0
           },
           {
            "bin_start": 829500,
            "bin_end": 987200,
            "count": 0
           },
           {
            "bin_start": 987200,
            "bin_end": 1144900,
            "count": 0
           },
           {
            "bin_start": 1144900,
            "bin_end": 1302600,
            "count": 0
           },
           {
            "bin_start": 1302600,
            "bin_end": 1460300,
            "count": 0
           },
           {
            "bin_start": 1460300,
            "bin_end": 1618000,
            "count": 1
           }
          ]
         }
        },
        {
         "name": "year",
         "dtype": "int64",
         "stats": {
          "unique_count": 1,
          "nan_count": 0,
          "min": "2018",
          "max": "2018",
          "histogram": [
           {
            "bin_start": 2017.5,
            "bin_end": 2017.6,
            "count": 0
           },
           {
            "bin_start": 2017.6,
            "bin_end": 2017.7,
            "count": 0
           },
           {
            "bin_start": 2017.7,
            "bin_end": 2017.8,
            "count": 0
           },
           {
            "bin_start": 2017.8,
            "bin_end": 2017.9,
            "count": 0
           },
           {
            "bin_start": 2017.9,
            "bin_end": 2018,
            "count": 0
           },
           {
            "bin_start": 2018,
            "bin_end": 2018.1,
            "count": 5
           },
           {
            "bin_start": 2018.1,
            "bin_end": 2018.2,
            "count": 0
           },
           {
            "bin_start": 2018.2,
            "bin_end": 2018.3,
            "count": 0
           },
           {
            "bin_start": 2018.3,
            "bin_end": 2018.4,
            "count": 0
           },
           {
            "bin_start": 2018.4,
            "bin_end": 2018.5,
            "count": 0
           }
          ]
         }
        },
        {
         "name": "recycling_rate",
         "dtype": "float64",
         "stats": {
          "unique_count": 5,
          "nan_count": 0,
          "min": "0.04",
          "max": "1.0",
          "histogram": [
           {
            "bin_start": 0.04,
            "bin_end": 0.136,
            "count": 2
           },
           {
            "bin_start": 0.136,
            "bin_end": 0.232,
            "count": 1
           },
           {
            "bin_start": 0.232,
            "bin_end": 0.328,
            "count": 0
           },
           {
            "bin_start": 0.328,
            "bin_end": 0.424,
            "count": 0
           },
           {
            "bin_start": 0.424,
            "bin_end": 0.52,
            "count": 0
           },
           {
            "bin_start": 0.52,
            "bin_end": 0.6160000000000001,
            "count": 1
           },
           {
            "bin_start": 0.6160000000000001,
            "bin_end": 0.7120000000000001,
            "count": 0
           },
           {
            "bin_start": 0.7120000000000001,
            "bin_end": 0.808,
            "count": 0
           },
           {
            "bin_start": 0.808,
            "bin_end": 0.904,
            "count": 0
           },
           {
            "bin_start": 0.904,
            "bin_end": 1,
            "count": 1
           }
          ]
         }
        },
        {
         "name": "_deepnote_index_column",
         "dtype": "int64"
        }
       ],
       "rows_top": [
        {
         "waste_type": "Construction& Demolition",
         "total_waste_generated_tonne": 1624000,
         "total_waste_recycled_tonne": 1618000,
         "year": 2018,
         "recycling_rate": 1,
         "_deepnote_index_column": 0
        },
        {
         "waste_type": "Ferrous Metal",
         "total_waste_generated_tonne": 1269000,
         "total_waste_recycled_tonne": 126000,
         "year": 2018,
         "recycling_rate": 0.1,
         "_deepnote_index_column": 1
        },
        {
         "waste_type": "Paper/Cardboard",
         "total_waste_generated_tonne": 1054000,
         "total_waste_recycled_tonne": 586000,
         "year": 2018,
         "recycling_rate": 0.56,
         "_deepnote_index_column": 2
        },
        {
         "waste_type": "Plastics",
         "total_waste_generated_tonne": 949000,
         "total_waste_recycled_tonne": 41000,
         "year": 2018,
         "recycling_rate": 0.04,
         "_deepnote_index_column": 3
        },
        {
         "waste_type": "Food",
         "total_waste_generated_tonne": 763000,
         "total_waste_recycled_tonne": 126000,
         "year": 2018,
         "recycling_rate": 0.17,
         "_deepnote_index_column": 4
        }
       ],
       "rows_bottom": null
      },
      "text/plain": "                 waste_type  total_waste_generated_tonne  \\\n0  Construction& Demolition                      1624000   \n1             Ferrous Metal                      1269000   \n2           Paper/Cardboard                      1054000   \n3                  Plastics                       949000   \n4                      Food                       763000   \n\n   total_waste_recycled_tonne  year  recycling_rate  \n0                     1618000  2018            1.00  \n1                      126000  2018            0.10  \n2                      586000  2018            0.56  \n3                       41000  2018            0.04  \n4                      126000  2018            0.17  ",
      "text/html": "<div>\n<style scoped>\n    .dataframe tbody tr th:only-of-type {\n        vertical-align: middle;\n    }\n\n    .dataframe tbody tr th {\n        vertical-align: top;\n    }\n\n    .dataframe thead th {\n        text-align: right;\n    }\n</style>\n<table border=\"1\" class=\"dataframe\">\n  <thead>\n    <tr style=\"text-align: right;\">\n      <th></th>\n      <th>waste_type</th>\n      <th>total_waste_generated_tonne</th>\n      <th>total_waste_recycled_tonne</th>\n      <th>year</th>\n      <th>recycling_rate</th>\n    </tr>\n  </thead>\n  <tbody>\n    <tr>\n      <th>0</th>\n      <td>Construction&amp; Demolition</td>\n      <td>1624000</td>\n      <td>1618000</td>\n      <td>2018</td>\n      <td>1.00</td>\n    </tr>\n    <tr>\n      <th>1</th>\n      <td>Ferrous Metal</td>\n      <td>1269000</td>\n      <td>126000</td>\n      <td>2018</td>\n      <td>0.10</td>\n    </tr>\n    <tr>\n      <th>2</th>\n      <td>Paper/Cardboard</td>\n      <td>1054000</td>\n      <td>586000</td>\n      <td>2018</td>\n      <td>0.56</td>\n    </tr>\n    <tr>\n      <th>3</th>\n      <td>Plastics</td>\n      <td>949000</td>\n      <td>41000</td>\n      <td>2018</td>\n      <td>0.04</td>\n    </tr>\n    <tr>\n      <th>4</th>\n      <td>Food</td>\n      <td>763000</td>\n      <td>126000</td>\n      <td>2018</td>\n      <td>0.17</td>\n    </tr>\n  </tbody>\n</table>\n</div>"
     },
     "metadata": {}
    }
   ],
   "execution_count": 7
  },
  {
   "cell_type": "markdown",
   "source": "## Data Analysis",
   "metadata": {
    "tags": [],
    "cell_id": "00015-c62de290-703e-4e36-b2c6-d652bef959b6",
    "deepnote_cell_type": "markdown"
   }
  },
  {
   "cell_type": "code",
   "metadata": {
    "dc": {
     "key": "4"
    },
    "trusted": true,
    "cell_id": "00005-05616f1d-d706-4127-8a54-0482d613b656",
    "deepnote_to_be_reexecuted": false,
    "source_hash": "66b85324",
    "execution_start": 1629195002606,
    "execution_millis": 297,
    "allow_embed": "code_output",
    "deepnote_cell_type": "code"
   },
   "source": "data = pd.concat([clean_waste_18_20, clean_waste_03_17]).sort_values(by=\"year\")\noverall = data[(data[\"waste_type\"] == \"Overall\") | (data[\"waste_type\"] == \"Total\")]\n\n\nfig = go.Figure()\n\nfig.add_trace(\n    go.Bar(\n        x=overall[\"year\"],\n        y=overall[\"total_waste_generated_tonne\"],\n        name=\"Waste Generated\",\n    )\n)\n\nfig.add_trace(\n    go.Bar(\n        x=overall[\"year\"],\n        y=overall[\"total_waste_recycled_tonne\"],\n        name=\"Waste Recycled\",\n    )\n)\n\nfig.show()\n",
   "outputs": [
    {
     "data": {
      "text/html": "<html>\n<head><meta charset=\"utf-8\" /></head>\n<body>\n    <div>            <script src=\"https://cdnjs.cloudflare.com/ajax/libs/mathjax/2.7.5/MathJax.js?config=TeX-AMS-MML_SVG\"></script><script type=\"text/javascript\">if (window.MathJax) {MathJax.Hub.Config({SVG: {font: \"STIX-Web\"}});}</script>                <script type=\"text/javascript\">window.PlotlyConfig = {MathJaxConfig: 'local'};</script>\n        <script src=\"https://cdn.plot.ly/plotly-2.2.0.min.js\"></script>                <div id=\"473de4aa-45f8-4ae8-895a-6d6fe932fbd5\" class=\"plotly-graph-div\" style=\"height:525px; width:100%;\"></div>            <script type=\"text/javascript\">                                    window.PLOTLYENV=window.PLOTLYENV || {};                                    if (document.getElementById(\"473de4aa-45f8-4ae8-895a-6d6fe932fbd5\")) {                    Plotly.newPlot(                        \"473de4aa-45f8-4ae8-895a-6d6fe932fbd5\",                        [{\"name\":\"Waste Generated\",\"type\":\"bar\",\"x\":[2003,2004,2005,2006,2007,2008,2009,2010,2011,2012,2013,2014,2015,2016,2017,2018,2019,2020],\"y\":[4728200,4789700,5018200,5220500,5600800,5970200,6114100,6517000,6898300,7269500,7851500,7514500,7673500,7814200,7704300,7695000,7234000,5880000]},{\"name\":\"Waste Recycled\",\"type\":\"bar\",\"x\":[2003,2004,2005,2006,2007,2008,2009,2010,2011,2012,2013,2014,2015,2016,2017,2018,2019,2020],\"y\":[2223200.0,2307100.0,2469400.0,2656900.0,3034800.0,3342600.0,3485200.0,3757500.0,4038800.0,4335600.0,4825900.0,4471100.0,4649700.0,4769000.0,4724300.0,4726000.0,4247000.0,3040000.0]}],                        {\"template\":{\"data\":{\"bar\":[{\"error_x\":{\"color\":\"#2a3f5f\"},\"error_y\":{\"color\":\"#2a3f5f\"},\"marker\":{\"line\":{\"color\":\"#E5ECF6\",\"width\":0.5},\"pattern\":{\"fillmode\":\"overlay\",\"size\":10,\"solidity\":0.2}},\"type\":\"bar\"}],\"barpolar\":[{\"marker\":{\"line\":{\"color\":\"#E5ECF6\",\"width\":0.5},\"pattern\":{\"fillmode\":\"overlay\",\"size\":10,\"solidity\":0.2}},\"type\":\"barpolar\"}],\"carpet\":[{\"aaxis\":{\"endlinecolor\":\"#2a3f5f\",\"gridcolor\":\"white\",\"linecolor\":\"white\",\"minorgridcolor\":\"white\",\"startlinecolor\":\"#2a3f5f\"},\"baxis\":{\"endlinecolor\":\"#2a3f5f\",\"gridcolor\":\"white\",\"linecolor\":\"white\",\"minorgridcolor\":\"white\",\"startlinecolor\":\"#2a3f5f\"},\"type\":\"carpet\"}],\"choropleth\":[{\"colorbar\":{\"outlinewidth\":0,\"ticks\":\"\"},\"type\":\"choropleth\"}],\"contour\":[{\"colorbar\":{\"outlinewidth\":0,\"ticks\":\"\"},\"colorscale\":[[0.0,\"#0d0887\"],[0.1111111111111111,\"#46039f\"],[0.2222222222222222,\"#7201a8\"],[0.3333333333333333,\"#9c179e\"],[0.4444444444444444,\"#bd3786\"],[0.5555555555555556,\"#d8576b\"],[0.6666666666666666,\"#ed7953\"],[0.7777777777777778,\"#fb9f3a\"],[0.8888888888888888,\"#fdca26\"],[1.0,\"#f0f921\"]],\"type\":\"contour\"}],\"contourcarpet\":[{\"colorbar\":{\"outlinewidth\":0,\"ticks\":\"\"},\"type\":\"contourcarpet\"}],\"heatmap\":[{\"colorbar\":{\"outlinewidth\":0,\"ticks\":\"\"},\"colorscale\":[[0.0,\"#0d0887\"],[0.1111111111111111,\"#46039f\"],[0.2222222222222222,\"#7201a8\"],[0.3333333333333333,\"#9c179e\"],[0.4444444444444444,\"#bd3786\"],[0.5555555555555556,\"#d8576b\"],[0.6666666666666666,\"#ed7953\"],[0.7777777777777778,\"#fb9f3a\"],[0.8888888888888888,\"#fdca26\"],[1.0,\"#f0f921\"]],\"type\":\"heatmap\"}],\"heatmapgl\":[{\"colorbar\":{\"outlinewidth\":0,\"ticks\":\"\"},\"colorscale\":[[0.0,\"#0d0887\"],[0.1111111111111111,\"#46039f\"],[0.2222222222222222,\"#7201a8\"],[0.3333333333333333,\"#9c179e\"],[0.4444444444444444,\"#bd3786\"],[0.5555555555555556,\"#d8576b\"],[0.6666666666666666,\"#ed7953\"],[0.7777777777777778,\"#fb9f3a\"],[0.8888888888888888,\"#fdca26\"],[1.0,\"#f0f921\"]],\"type\":\"heatmapgl\"}],\"histogram\":[{\"marker\":{\"pattern\":{\"fillmode\":\"overlay\",\"size\":10,\"solidity\":0.2}},\"type\":\"histogram\"}],\"histogram2d\":[{\"colorbar\":{\"outlinewidth\":0,\"ticks\":\"\"},\"colorscale\":[[0.0,\"#0d0887\"],[0.1111111111111111,\"#46039f\"],[0.2222222222222222,\"#7201a8\"],[0.3333333333333333,\"#9c179e\"],[0.4444444444444444,\"#bd3786\"],[0.5555555555555556,\"#d8576b\"],[0.6666666666666666,\"#ed7953\"],[0.7777777777777778,\"#fb9f3a\"],[0.8888888888888888,\"#fdca26\"],[1.0,\"#f0f921\"]],\"type\":\"histogram2d\"}],\"histogram2dcontour\":[{\"colorbar\":{\"outlinewidth\":0,\"ticks\":\"\"},\"colorscale\":[[0.0,\"#0d0887\"],[0.1111111111111111,\"#46039f\"],[0.2222222222222222,\"#7201a8\"],[0.3333333333333333,\"#9c179e\"],[0.4444444444444444,\"#bd3786\"],[0.5555555555555556,\"#d8576b\"],[0.6666666666666666,\"#ed7953\"],[0.7777777777777778,\"#fb9f3a\"],[0.8888888888888888,\"#fdca26\"],[1.0,\"#f0f921\"]],\"type\":\"histogram2dcontour\"}],\"mesh3d\":[{\"colorbar\":{\"outlinewidth\":0,\"ticks\":\"\"},\"type\":\"mesh3d\"}],\"parcoords\":[{\"line\":{\"colorbar\":{\"outlinewidth\":0,\"ticks\":\"\"}},\"type\":\"parcoords\"}],\"pie\":[{\"automargin\":true,\"type\":\"pie\"}],\"scatter\":[{\"marker\":{\"colorbar\":{\"outlinewidth\":0,\"ticks\":\"\"}},\"type\":\"scatter\"}],\"scatter3d\":[{\"line\":{\"colorbar\":{\"outlinewidth\":0,\"ticks\":\"\"}},\"marker\":{\"colorbar\":{\"outlinewidth\":0,\"ticks\":\"\"}},\"type\":\"scatter3d\"}],\"scattercarpet\":[{\"marker\":{\"colorbar\":{\"outlinewidth\":0,\"ticks\":\"\"}},\"type\":\"scattercarpet\"}],\"scattergeo\":[{\"marker\":{\"colorbar\":{\"outlinewidth\":0,\"ticks\":\"\"}},\"type\":\"scattergeo\"}],\"scattergl\":[{\"marker\":{\"colorbar\":{\"outlinewidth\":0,\"ticks\":\"\"}},\"type\":\"scattergl\"}],\"scattermapbox\":[{\"marker\":{\"colorbar\":{\"outlinewidth\":0,\"ticks\":\"\"}},\"type\":\"scattermapbox\"}],\"scatterpolar\":[{\"marker\":{\"colorbar\":{\"outlinewidth\":0,\"ticks\":\"\"}},\"type\":\"scatterpolar\"}],\"scatterpolargl\":[{\"marker\":{\"colorbar\":{\"outlinewidth\":0,\"ticks\":\"\"}},\"type\":\"scatterpolargl\"}],\"scatterternary\":[{\"marker\":{\"colorbar\":{\"outlinewidth\":0,\"ticks\":\"\"}},\"type\":\"scatterternary\"}],\"surface\":[{\"colorbar\":{\"outlinewidth\":0,\"ticks\":\"\"},\"colorscale\":[[0.0,\"#0d0887\"],[0.1111111111111111,\"#46039f\"],[0.2222222222222222,\"#7201a8\"],[0.3333333333333333,\"#9c179e\"],[0.4444444444444444,\"#bd3786\"],[0.5555555555555556,\"#d8576b\"],[0.6666666666666666,\"#ed7953\"],[0.7777777777777778,\"#fb9f3a\"],[0.8888888888888888,\"#fdca26\"],[1.0,\"#f0f921\"]],\"type\":\"surface\"}],\"table\":[{\"cells\":{\"fill\":{\"color\":\"#EBF0F8\"},\"line\":{\"color\":\"white\"}},\"header\":{\"fill\":{\"color\":\"#C8D4E3\"},\"line\":{\"color\":\"white\"}},\"type\":\"table\"}]},\"layout\":{\"annotationdefaults\":{\"arrowcolor\":\"#2a3f5f\",\"arrowhead\":0,\"arrowwidth\":1},\"autotypenumbers\":\"strict\",\"coloraxis\":{\"colorbar\":{\"outlinewidth\":0,\"ticks\":\"\"}},\"colorscale\":{\"diverging\":[[0,\"#8e0152\"],[0.1,\"#c51b7d\"],[0.2,\"#de77ae\"],[0.3,\"#f1b6da\"],[0.4,\"#fde0ef\"],[0.5,\"#f7f7f7\"],[0.6,\"#e6f5d0\"],[0.7,\"#b8e186\"],[0.8,\"#7fbc41\"],[0.9,\"#4d9221\"],[1,\"#276419\"]],\"sequential\":[[0.0,\"#0d0887\"],[0.1111111111111111,\"#46039f\"],[0.2222222222222222,\"#7201a8\"],[0.3333333333333333,\"#9c179e\"],[0.4444444444444444,\"#bd3786\"],[0.5555555555555556,\"#d8576b\"],[0.6666666666666666,\"#ed7953\"],[0.7777777777777778,\"#fb9f3a\"],[0.8888888888888888,\"#fdca26\"],[1.0,\"#f0f921\"]],\"sequentialminus\":[[0.0,\"#0d0887\"],[0.1111111111111111,\"#46039f\"],[0.2222222222222222,\"#7201a8\"],[0.3333333333333333,\"#9c179e\"],[0.4444444444444444,\"#bd3786\"],[0.5555555555555556,\"#d8576b\"],[0.6666666666666666,\"#ed7953\"],[0.7777777777777778,\"#fb9f3a\"],[0.8888888888888888,\"#fdca26\"],[1.0,\"#f0f921\"]]},\"colorway\":[\"#636efa\",\"#EF553B\",\"#00cc96\",\"#ab63fa\",\"#FFA15A\",\"#19d3f3\",\"#FF6692\",\"#B6E880\",\"#FF97FF\",\"#FECB52\"],\"font\":{\"color\":\"#2a3f5f\"},\"geo\":{\"bgcolor\":\"white\",\"lakecolor\":\"white\",\"landcolor\":\"#E5ECF6\",\"showlakes\":true,\"showland\":true,\"subunitcolor\":\"white\"},\"hoverlabel\":{\"align\":\"left\"},\"hovermode\":\"closest\",\"mapbox\":{\"style\":\"light\"},\"paper_bgcolor\":\"white\",\"plot_bgcolor\":\"#E5ECF6\",\"polar\":{\"angularaxis\":{\"gridcolor\":\"white\",\"linecolor\":\"white\",\"ticks\":\"\"},\"bgcolor\":\"#E5ECF6\",\"radialaxis\":{\"gridcolor\":\"white\",\"linecolor\":\"white\",\"ticks\":\"\"}},\"scene\":{\"xaxis\":{\"backgroundcolor\":\"#E5ECF6\",\"gridcolor\":\"white\",\"gridwidth\":2,\"linecolor\":\"white\",\"showbackground\":true,\"ticks\":\"\",\"zerolinecolor\":\"white\"},\"yaxis\":{\"backgroundcolor\":\"#E5ECF6\",\"gridcolor\":\"white\",\"gridwidth\":2,\"linecolor\":\"white\",\"showbackground\":true,\"ticks\":\"\",\"zerolinecolor\":\"white\"},\"zaxis\":{\"backgroundcolor\":\"#E5ECF6\",\"gridcolor\":\"white\",\"gridwidth\":2,\"linecolor\":\"white\",\"showbackground\":true,\"ticks\":\"\",\"zerolinecolor\":\"white\"}},\"shapedefaults\":{\"line\":{\"color\":\"#2a3f5f\"}},\"ternary\":{\"aaxis\":{\"gridcolor\":\"white\",\"linecolor\":\"white\",\"ticks\":\"\"},\"baxis\":{\"gridcolor\":\"white\",\"linecolor\":\"white\",\"ticks\":\"\"},\"bgcolor\":\"#E5ECF6\",\"caxis\":{\"gridcolor\":\"white\",\"linecolor\":\"white\",\"ticks\":\"\"}},\"title\":{\"x\":0.05},\"xaxis\":{\"automargin\":true,\"gridcolor\":\"white\",\"linecolor\":\"white\",\"ticks\":\"\",\"title\":{\"standoff\":15},\"zerolinecolor\":\"white\",\"zerolinewidth\":2},\"yaxis\":{\"automargin\":true,\"gridcolor\":\"white\",\"linecolor\":\"white\",\"ticks\":\"\",\"title\":{\"standoff\":15},\"zerolinecolor\":\"white\",\"zerolinewidth\":2}}}},                        {\"responsive\": true}                    ).then(function(){\n                            \nvar gd = document.getElementById('473de4aa-45f8-4ae8-895a-6d6fe932fbd5');\nvar x = new MutationObserver(function (mutations, observer) {{\n        var display = window.getComputedStyle(gd).display;\n        if (!display || display === 'none') {{\n            console.log([gd, 'removed!']);\n            Plotly.purge(gd);\n            observer.disconnect();\n        }}\n}});\n\n// Listen for the removal of the full notebook cells\nvar notebookContainer = gd.closest('#notebook-container');\nif (notebookContainer) {{\n    x.observe(notebookContainer, {childList: true});\n}}\n\n// Listen for the clearing of the current output cell\nvar outputEl = gd.closest('.output');\nif (outputEl) {{\n    x.observe(outputEl, {childList: true});\n}}\n\n                        })                };                            </script>        </div>\n</body>\n</html>"
     },
     "metadata": {},
     "output_type": "display_data"
    }
   ],
   "execution_count": 8
  },
  {
   "cell_type": "code",
   "metadata": {
    "tags": [],
    "cell_id": "00012-79d40154-15cc-404b-8cde-b3afc1cc473a",
    "deepnote_to_be_reexecuted": false,
    "source_hash": "99e6a28",
    "execution_start": 1629195002887,
    "execution_millis": 17,
    "allow_embed": "code_output",
    "deepnote_cell_type": "code"
   },
   "source": "data['waste_type'].value_counts()",
   "outputs": [
    {
     "output_type": "execute_result",
     "execution_count": 9,
     "data": {
      "text/plain": "Glass                                      18\nPaper/Cardboard                            18\nTextile/Leather                            18\nPlastics                                   17\nTotal                                      15\nScrap Tyres                                13\nUsed Slag                                  13\nOthers (stones, ceramics & rubber etc)     12\nHorticultural Waste                        11\nFood waste                                 11\nNon-ferrous Metals                         11\nSludge                                     11\nConstruction Debris                        11\nWood/Timber                                11\nFerrous Metal                               9\nWood                                        7\nFood                                        7\nScrap tyres                                 5\nFerrous metal                               5\nAsh & Sludge                                5\nUsed slag                                   5\nHorticultural waste                         4\nFerrous Metals                              4\nNon-ferrous metal                           4\nOverall                                     3\nHorticultural                               3\nC&D                                         3\nOthers (stones, ceramic, rubber, ect)       2\nNon-Ferrous Metal                           2\nConstruction& Demolition                    2\nAsh and sludge                              1\nAsh & sludge                                1\nConstruction & Demolition                   1\nOthers (stones, ceramic, rubber, etc.)      1\nPlastic                                     1\nNon-ferrous metals                          1\nOthers (stones, ceramics & rubber etc.)     1\nOthers (stones, ceramics, etc.)             1\nOthers                                      1\nConstruction debris                         1\nName: waste_type, dtype: int64"
     },
     "metadata": {}
    }
   ],
   "execution_count": 9
  },
  {
   "cell_type": "code",
   "metadata": {
    "dc": {
     "key": "4"
    },
    "trusted": true,
    "collapsed": true,
    "cell_id": "00007-b8c7952b-6a3a-42ec-a092-229f292203c0",
    "deepnote_to_be_reexecuted": false,
    "source_hash": "a8fda9bc",
    "execution_start": 1629195002904,
    "execution_millis": 3,
    "allow_embed": "code_output",
    "deepnote_cell_type": "code"
   },
   "source": "data[\"waste_type\"] = data[\"waste_type\"].str.replace(\n    \"Non-ferrous metal\", \"Non-Ferrous Metal\"\n    )\ndata[\"waste_type\"] = data[\"waste_type\"].str.replace(\n    \"Non-ferrous metals\", \"Non-Ferrous Metal\"\n    )\ndata[\"waste_type\"] = data[\"waste_type\"].str.replace(\n    \"Non-Ferrous Metals\", \"Non-Ferrous Metal\"\n    )\ndata[\"waste_type\"] = data[\"waste_type\"].str.replace(\n    \"Plastics\", \"Plastic\"\n    )\ndata[\"waste_type\"] = data[\"waste_type\"].str.replace(\n    \"Ferrous metal\", \"Ferrous Metal\"\n    )\ndata[\"waste_type\"] = data[\"waste_type\"].str.replace(\n    \"Paper/Cardboard\", \"Paper\"\n    )\n",
   "outputs": [],
   "execution_count": 10
  },
  {
   "cell_type": "code",
   "metadata": {
    "dc": {
     "key": "4"
    },
    "trusted": true,
    "cell_id": "00008-2ea10317-a57f-420a-820f-6372cbbf4e74",
    "deepnote_to_be_reexecuted": false,
    "source_hash": "f482b148",
    "execution_start": 1629195002911,
    "execution_millis": 67,
    "allow_embed": "code_output",
    "deepnote_cell_type": "code"
   },
   "source": "total_data = data.merge(\n    clean_energy_saved, how=\"left\", left_on=\"waste_type\", right_on=\"material\"\n).dropna()\n\ntotal_data[\"energy_saved\"] = total_data.loc[:, \"energy_saved\"].str.replace(\"kWh\", \"\")\n\ntotal_data[\"energy_saved\"] = (\n    total_data.loc[:, \"energy_saved\"].str.replace(\"Kwh\", \"\").astype(int)\n)\n\ntotal_data.head()\n",
   "outputs": [
    {
     "output_type": "execute_result",
     "execution_count": 11,
     "data": {
      "application/vnd.deepnote.dataframe.v2+json": {
       "row_count": 5,
       "column_count": 8,
       "columns": [
        {
         "name": "waste_type",
         "dtype": "object",
         "stats": {
          "unique_count": 3,
          "nan_count": 0,
          "categories": [
           {
            "name": "Plastic",
            "count": 2
           },
           {
            "name": "Paper",
            "count": 2
           },
           {
            "name": "Glass",
            "count": 1
           }
          ]
         }
        },
        {
         "name": "total_waste_generated_tonne",
         "dtype": "int64",
         "stats": {
          "unique_count": 5,
          "nan_count": 0,
          "min": "65500",
          "max": "1132100",
          "histogram": [
           {
            "bin_start": 65500,
            "bin_end": 172160,
            "count": 1
           },
           {
            "bin_start": 172160,
            "bin_end": 278820,
            "count": 0
           },
           {
            "bin_start": 278820,
            "bin_end": 385480,
            "count": 0
           },
           {
            "bin_start": 385480,
            "bin_end": 492140,
            "count": 0
           },
           {
            "bin_start": 492140,
            "bin_end": 598800,
            "count": 1
           },
           {
            "bin_start": 598800,
            "bin_end": 705460,
            "count": 1
           },
           {
            "bin_start": 705460,
            "bin_end": 812120,
            "count": 0
           },
           {
            "bin_start": 812120,
            "bin_end": 918780,
            "count": 0
           },
           {
            "bin_start": 918780,
            "bin_end": 1025440,
            "count": 0
           },
           {
            "bin_start": 1025440,
            "bin_end": 1132100,
            "count": 2
           }
          ]
         }
        },
        {
         "name": "total_waste_recycled_tonne",
         "dtype": "float64",
         "stats": {
          "unique_count": 5,
          "nan_count": 0,
          "min": "6200.0",
          "max": "519900.0",
          "histogram": [
           {
            "bin_start": 6200,
            "bin_end": 57570,
            "count": 2
           },
           {
            "bin_start": 57570,
            "bin_end": 108940,
            "count": 1
           },
           {
            "bin_start": 108940,
            "bin_end": 160310,
            "count": 0
           },
           {
            "bin_start": 160310,
            "bin_end": 211680,
            "count": 0
           },
           {
            "bin_start": 211680,
            "bin_end": 263050,
            "count": 0
           },
           {
            "bin_start": 263050,
            "bin_end": 314420,
            "count": 0
           },
           {
            "bin_start": 314420,
            "bin_end": 365790,
            "count": 0
           },
           {
            "bin_start": 365790,
            "bin_end": 417160,
            "count": 0
           },
           {
            "bin_start": 417160,
            "bin_end": 468530,
            "count": 1
           },
           {
            "bin_start": 468530,
            "bin_end": 519900,
            "count": 1
           }
          ]
         }
        },
        {
         "name": "year",
         "dtype": "int64",
         "stats": {
          "unique_count": 2,
          "nan_count": 0,
          "min": "2003",
          "max": "2004",
          "histogram": [
           {
            "bin_start": 2003,
            "bin_end": 2003.1,
            "count": 3
           },
           {
            "bin_start": 2003.1,
            "bin_end": 2003.2,
            "count": 0
           },
           {
            "bin_start": 2003.2,
            "bin_end": 2003.3,
            "count": 0
           },
           {
            "bin_start": 2003.3,
            "bin_end": 2003.4,
            "count": 0
           },
           {
            "bin_start": 2003.4,
            "bin_end": 2003.5,
            "count": 0
           },
           {
            "bin_start": 2003.5,
            "bin_end": 2003.6,
            "count": 0
           },
           {
            "bin_start": 2003.6,
            "bin_end": 2003.7,
            "count": 0
           },
           {
            "bin_start": 2003.7,
            "bin_end": 2003.8,
            "count": 0
           },
           {
            "bin_start": 2003.8,
            "bin_end": 2003.9,
            "count": 0
           },
           {
            "bin_start": 2003.9,
            "bin_end": 2004,
            "count": 2
           }
          ]
         }
        },
        {
         "name": "recycling_rate",
         "dtype": "float64",
         "stats": {
          "unique_count": 5,
          "nan_count": 0,
          "min": "0.07",
          "max": "0.46",
          "histogram": [
           {
            "bin_start": 0.07,
            "bin_end": 0.10900000000000001,
            "count": 2
           },
           {
            "bin_start": 0.10900000000000001,
            "bin_end": 0.14800000000000002,
            "count": 1
           },
           {
            "bin_start": 0.14800000000000002,
            "bin_end": 0.187,
            "count": 0
           },
           {
            "bin_start": 0.187,
            "bin_end": 0.226,
            "count": 0
           },
           {
            "bin_start": 0.226,
            "bin_end": 0.265,
            "count": 0
           },
           {
            "bin_start": 0.265,
            "bin_end": 0.304,
            "count": 0
           },
           {
            "bin_start": 0.304,
            "bin_end": 0.343,
            "count": 0
           },
           {
            "bin_start": 0.343,
            "bin_end": 0.382,
            "count": 0
           },
           {
            "bin_start": 0.382,
            "bin_end": 0.421,
            "count": 0
           },
           {
            "bin_start": 0.421,
            "bin_end": 0.46,
            "count": 2
           }
          ]
         }
        },
        {
         "name": "material",
         "dtype": "object",
         "stats": {
          "unique_count": 3,
          "nan_count": 0,
          "categories": [
           {
            "name": "Plastic",
            "count": 2
           },
           {
            "name": "Paper",
            "count": 2
           },
           {
            "name": "Glass",
            "count": 1
           }
          ]
         }
        },
        {
         "name": "energy_saved",
         "dtype": "int64",
         "stats": {
          "unique_count": 3,
          "nan_count": 0,
          "min": "42",
          "max": "5774",
          "histogram": [
           {
            "bin_start": 42,
            "bin_end": 615.2,
            "count": 1
           },
           {
            "bin_start": 615.2,
            "bin_end": 1188.4,
            "count": 0
           },
           {
            "bin_start": 1188.4,
            "bin_end": 1761.6000000000001,
            "count": 0
           },
           {
            "bin_start": 1761.6000000000001,
            "bin_end": 2334.8,
            "count": 0
           },
           {
            "bin_start": 2334.8,
            "bin_end": 2908,
            "count": 0
           },
           {
            "bin_start": 2908,
            "bin_end": 3481.2000000000003,
            "count": 0
           },
           {
            "bin_start": 3481.2000000000003,
            "bin_end": 4054.4000000000005,
            "count": 0
           },
           {
            "bin_start": 4054.4000000000005,
            "bin_end": 4627.6,
            "count": 2
           },
           {
            "bin_start": 4627.6,
            "bin_end": 5200.8,
            "count": 0
           },
           {
            "bin_start": 5200.8,
            "bin_end": 5774,
            "count": 2
           }
          ]
         }
        },
        {
         "name": "crude_oil_saved",
         "dtype": "object",
         "stats": {
          "unique_count": 3,
          "nan_count": 0,
          "categories": [
           {
            "name": "16 barrels",
            "count": 2
           },
           {
            "name": "11 barrels",
            "count": 2
           },
           {
            "name": "0.12 barrels",
            "count": 1
           }
          ]
         }
        },
        {
         "name": "_deepnote_index_column",
         "dtype": "int64"
        }
       ],
       "rows_top": [
        {
         "waste_type": "Glass",
         "total_waste_generated_tonne": 65500,
         "total_waste_recycled_tonne": 6200,
         "year": 2003,
         "recycling_rate": 0.09,
         "material": "Glass",
         "energy_saved": 42,
         "crude_oil_saved": "0.12 barrels",
         "_deepnote_index_column": 2
        },
        {
         "waste_type": "Plastic",
         "total_waste_generated_tonne": 579900,
         "total_waste_recycled_tonne": 39100,
         "year": 2003,
         "recycling_rate": 0.07,
         "material": "Plastic",
         "energy_saved": 5774,
         "crude_oil_saved": "16 barrels",
         "_deepnote_index_column": 10
        },
        {
         "waste_type": "Paper",
         "total_waste_generated_tonne": 1084700,
         "total_waste_recycled_tonne": 466200,
         "year": 2003,
         "recycling_rate": 0.43,
         "material": "Paper",
         "energy_saved": 4100,
         "crude_oil_saved": "11 barrels",
         "_deepnote_index_column": 11
        },
        {
         "waste_type": "Plastic",
         "total_waste_generated_tonne": 683100,
         "total_waste_recycled_tonne": 74100,
         "year": 2004,
         "recycling_rate": 0.11,
         "material": "Plastic",
         "energy_saved": 5774,
         "crude_oil_saved": "16 barrels",
         "_deepnote_index_column": 25
        },
        {
         "waste_type": "Paper",
         "total_waste_generated_tonne": 1132100,
         "total_waste_recycled_tonne": 519900,
         "year": 2004,
         "recycling_rate": 0.46,
         "material": "Paper",
         "energy_saved": 4100,
         "crude_oil_saved": "11 barrels",
         "_deepnote_index_column": 26
        }
       ],
       "rows_bottom": null
      },
      "text/plain": "   waste_type  total_waste_generated_tonne  total_waste_recycled_tonne  year  \\\n2       Glass                        65500                      6200.0  2003   \n10    Plastic                       579900                     39100.0  2003   \n11      Paper                      1084700                    466200.0  2003   \n25    Plastic                       683100                     74100.0  2004   \n26      Paper                      1132100                    519900.0  2004   \n\n    recycling_rate material  energy_saved crude_oil_saved  \n2             0.09    Glass            42    0.12 barrels  \n10            0.07  Plastic          5774      16 barrels  \n11            0.43    Paper          4100      11 barrels  \n25            0.11  Plastic          5774      16 barrels  \n26            0.46    Paper          4100      11 barrels  ",
      "text/html": "<div>\n<style scoped>\n    .dataframe tbody tr th:only-of-type {\n        vertical-align: middle;\n    }\n\n    .dataframe tbody tr th {\n        vertical-align: top;\n    }\n\n    .dataframe thead th {\n        text-align: right;\n    }\n</style>\n<table border=\"1\" class=\"dataframe\">\n  <thead>\n    <tr style=\"text-align: right;\">\n      <th></th>\n      <th>waste_type</th>\n      <th>total_waste_generated_tonne</th>\n      <th>total_waste_recycled_tonne</th>\n      <th>year</th>\n      <th>recycling_rate</th>\n      <th>material</th>\n      <th>energy_saved</th>\n      <th>crude_oil_saved</th>\n    </tr>\n  </thead>\n  <tbody>\n    <tr>\n      <th>2</th>\n      <td>Glass</td>\n      <td>65500</td>\n      <td>6200.0</td>\n      <td>2003</td>\n      <td>0.09</td>\n      <td>Glass</td>\n      <td>42</td>\n      <td>0.12 barrels</td>\n    </tr>\n    <tr>\n      <th>10</th>\n      <td>Plastic</td>\n      <td>579900</td>\n      <td>39100.0</td>\n      <td>2003</td>\n      <td>0.07</td>\n      <td>Plastic</td>\n      <td>5774</td>\n      <td>16 barrels</td>\n    </tr>\n    <tr>\n      <th>11</th>\n      <td>Paper</td>\n      <td>1084700</td>\n      <td>466200.0</td>\n      <td>2003</td>\n      <td>0.43</td>\n      <td>Paper</td>\n      <td>4100</td>\n      <td>11 barrels</td>\n    </tr>\n    <tr>\n      <th>25</th>\n      <td>Plastic</td>\n      <td>683100</td>\n      <td>74100.0</td>\n      <td>2004</td>\n      <td>0.11</td>\n      <td>Plastic</td>\n      <td>5774</td>\n      <td>16 barrels</td>\n    </tr>\n    <tr>\n      <th>26</th>\n      <td>Paper</td>\n      <td>1132100</td>\n      <td>519900.0</td>\n      <td>2004</td>\n      <td>0.46</td>\n      <td>Paper</td>\n      <td>4100</td>\n      <td>11 barrels</td>\n    </tr>\n  </tbody>\n</table>\n</div>"
     },
     "metadata": {}
    }
   ],
   "execution_count": 11
  },
  {
   "cell_type": "code",
   "metadata": {
    "dc": {
     "key": "4"
    },
    "trusted": true,
    "cell_id": "00009-4ef6b9a0-48e2-43eb-9530-e05070e84dbf",
    "deepnote_to_be_reexecuted": false,
    "source_hash": "9ecff6d",
    "execution_start": 1629195003022,
    "execution_millis": 16,
    "allow_embed": "code_output",
    "deepnote_cell_type": "code"
   },
   "source": "total_data[\"total_energy_saved\"] = (\n    total_data.loc[:, \"total_waste_recycled_tonne\"] * total_data.loc[:, \"energy_saved\"]\n)\n\ntotal_data.head()\n",
   "outputs": [
    {
     "output_type": "execute_result",
     "execution_count": 12,
     "data": {
      "application/vnd.deepnote.dataframe.v2+json": {
       "row_count": 5,
       "column_count": 9,
       "columns": [
        {
         "name": "waste_type",
         "dtype": "object",
         "stats": {
          "unique_count": 3,
          "nan_count": 0,
          "categories": [
           {
            "name": "Plastic",
            "count": 2
           },
           {
            "name": "Paper",
            "count": 2
           },
           {
            "name": "Glass",
            "count": 1
           }
          ]
         }
        },
        {
         "name": "total_waste_generated_tonne",
         "dtype": "int64",
         "stats": {
          "unique_count": 5,
          "nan_count": 0,
          "min": "65500",
          "max": "1132100",
          "histogram": [
           {
            "bin_start": 65500,
            "bin_end": 172160,
            "count": 1
           },
           {
            "bin_start": 172160,
            "bin_end": 278820,
            "count": 0
           },
           {
            "bin_start": 278820,
            "bin_end": 385480,
            "count": 0
           },
           {
            "bin_start": 385480,
            "bin_end": 492140,
            "count": 0
           },
           {
            "bin_start": 492140,
            "bin_end": 598800,
            "count": 1
           },
           {
            "bin_start": 598800,
            "bin_end": 705460,
            "count": 1
           },
           {
            "bin_start": 705460,
            "bin_end": 812120,
            "count": 0
           },
           {
            "bin_start": 812120,
            "bin_end": 918780,
            "count": 0
           },
           {
            "bin_start": 918780,
            "bin_end": 1025440,
            "count": 0
           },
           {
            "bin_start": 1025440,
            "bin_end": 1132100,
            "count": 2
           }
          ]
         }
        },
        {
         "name": "total_waste_recycled_tonne",
         "dtype": "float64",
         "stats": {
          "unique_count": 5,
          "nan_count": 0,
          "min": "6200.0",
          "max": "519900.0",
          "histogram": [
           {
            "bin_start": 6200,
            "bin_end": 57570,
            "count": 2
           },
           {
            "bin_start": 57570,
            "bin_end": 108940,
            "count": 1
           },
           {
            "bin_start": 108940,
            "bin_end": 160310,
            "count": 0
           },
           {
            "bin_start": 160310,
            "bin_end": 211680,
            "count": 0
           },
           {
            "bin_start": 211680,
            "bin_end": 263050,
            "count": 0
           },
           {
            "bin_start": 263050,
            "bin_end": 314420,
            "count": 0
           },
           {
            "bin_start": 314420,
            "bin_end": 365790,
            "count": 0
           },
           {
            "bin_start": 365790,
            "bin_end": 417160,
            "count": 0
           },
           {
            "bin_start": 417160,
            "bin_end": 468530,
            "count": 1
           },
           {
            "bin_start": 468530,
            "bin_end": 519900,
            "count": 1
           }
          ]
         }
        },
        {
         "name": "year",
         "dtype": "int64",
         "stats": {
          "unique_count": 2,
          "nan_count": 0,
          "min": "2003",
          "max": "2004",
          "histogram": [
           {
            "bin_start": 2003,
            "bin_end": 2003.1,
            "count": 3
           },
           {
            "bin_start": 2003.1,
            "bin_end": 2003.2,
            "count": 0
           },
           {
            "bin_start": 2003.2,
            "bin_end": 2003.3,
            "count": 0
           },
           {
            "bin_start": 2003.3,
            "bin_end": 2003.4,
            "count": 0
           },
           {
            "bin_start": 2003.4,
            "bin_end": 2003.5,
            "count": 0
           },
           {
            "bin_start": 2003.5,
            "bin_end": 2003.6,
            "count": 0
           },
           {
            "bin_start": 2003.6,
            "bin_end": 2003.7,
            "count": 0
           },
           {
            "bin_start": 2003.7,
            "bin_end": 2003.8,
            "count": 0
           },
           {
            "bin_start": 2003.8,
            "bin_end": 2003.9,
            "count": 0
           },
           {
            "bin_start": 2003.9,
            "bin_end": 2004,
            "count": 2
           }
          ]
         }
        },
        {
         "name": "recycling_rate",
         "dtype": "float64",
         "stats": {
          "unique_count": 5,
          "nan_count": 0,
          "min": "0.07",
          "max": "0.46",
          "histogram": [
           {
            "bin_start": 0.07,
            "bin_end": 0.10900000000000001,
            "count": 2
           },
           {
            "bin_start": 0.10900000000000001,
            "bin_end": 0.14800000000000002,
            "count": 1
           },
           {
            "bin_start": 0.14800000000000002,
            "bin_end": 0.187,
            "count": 0
           },
           {
            "bin_start": 0.187,
            "bin_end": 0.226,
            "count": 0
           },
           {
            "bin_start": 0.226,
            "bin_end": 0.265,
            "count": 0
           },
           {
            "bin_start": 0.265,
            "bin_end": 0.304,
            "count": 0
           },
           {
            "bin_start": 0.304,
            "bin_end": 0.343,
            "count": 0
           },
           {
            "bin_start": 0.343,
            "bin_end": 0.382,
            "count": 0
           },
           {
            "bin_start": 0.382,
            "bin_end": 0.421,
            "count": 0
           },
           {
            "bin_start": 0.421,
            "bin_end": 0.46,
            "count": 2
           }
          ]
         }
        },
        {
         "name": "material",
         "dtype": "object",
         "stats": {
          "unique_count": 3,
          "nan_count": 0,
          "categories": [
           {
            "name": "Plastic",
            "count": 2
           },
           {
            "name": "Paper",
            "count": 2
           },
           {
            "name": "Glass",
            "count": 1
           }
          ]
         }
        },
        {
         "name": "energy_saved",
         "dtype": "int64",
         "stats": {
          "unique_count": 3,
          "nan_count": 0,
          "min": "42",
          "max": "5774",
          "histogram": [
           {
            "bin_start": 42,
            "bin_end": 615.2,
            "count": 1
           },
           {
            "bin_start": 615.2,
            "bin_end": 1188.4,
            "count": 0
           },
           {
            "bin_start": 1188.4,
            "bin_end": 1761.6000000000001,
            "count": 0
           },
           {
            "bin_start": 1761.6000000000001,
            "bin_end": 2334.8,
            "count": 0
           },
           {
            "bin_start": 2334.8,
            "bin_end": 2908,
            "count": 0
           },
           {
            "bin_start": 2908,
            "bin_end": 3481.2000000000003,
            "count": 0
           },
           {
            "bin_start": 3481.2000000000003,
            "bin_end": 4054.4000000000005,
            "count": 0
           },
           {
            "bin_start": 4054.4000000000005,
            "bin_end": 4627.6,
            "count": 2
           },
           {
            "bin_start": 4627.6,
            "bin_end": 5200.8,
            "count": 0
           },
           {
            "bin_start": 5200.8,
            "bin_end": 5774,
            "count": 2
           }
          ]
         }
        },
        {
         "name": "crude_oil_saved",
         "dtype": "object",
         "stats": {
          "unique_count": 3,
          "nan_count": 0,
          "categories": [
           {
            "name": "16 barrels",
            "count": 2
           },
           {
            "name": "11 barrels",
            "count": 2
           },
           {
            "name": "0.12 barrels",
            "count": 1
           }
          ]
         }
        },
        {
         "name": "total_energy_saved",
         "dtype": "float64",
         "stats": {
          "unique_count": 5,
          "nan_count": 0,
          "min": "260400.0",
          "max": "2131590000.0",
          "histogram": [
           {
            "bin_start": 260400,
            "bin_end": 213393360,
            "count": 1
           },
           {
            "bin_start": 213393360,
            "bin_end": 426526320,
            "count": 1
           },
           {
            "bin_start": 426526320,
            "bin_end": 639659280,
            "count": 1
           },
           {
            "bin_start": 639659280,
            "bin_end": 852792240,
            "count": 0
           },
           {
            "bin_start": 852792240,
            "bin_end": 1065925200,
            "count": 0
           },
           {
            "bin_start": 1065925200,
            "bin_end": 1279058160,
            "count": 0
           },
           {
            "bin_start": 1279058160,
            "bin_end": 1492191120,
            "count": 0
           },
           {
            "bin_start": 1492191120,
            "bin_end": 1705324080,
            "count": 0
           },
           {
            "bin_start": 1705324080,
            "bin_end": 1918457040,
            "count": 1
           },
           {
            "bin_start": 1918457040,
            "bin_end": 2131590000,
            "count": 1
           }
          ]
         }
        },
        {
         "name": "_deepnote_index_column",
         "dtype": "int64"
        }
       ],
       "rows_top": [
        {
         "waste_type": "Glass",
         "total_waste_generated_tonne": 65500,
         "total_waste_recycled_tonne": 6200,
         "year": 2003,
         "recycling_rate": 0.09,
         "material": "Glass",
         "energy_saved": 42,
         "crude_oil_saved": "0.12 barrels",
         "total_energy_saved": 260400,
         "_deepnote_index_column": 2
        },
        {
         "waste_type": "Plastic",
         "total_waste_generated_tonne": 579900,
         "total_waste_recycled_tonne": 39100,
         "year": 2003,
         "recycling_rate": 0.07,
         "material": "Plastic",
         "energy_saved": 5774,
         "crude_oil_saved": "16 barrels",
         "total_energy_saved": 225763400,
         "_deepnote_index_column": 10
        },
        {
         "waste_type": "Paper",
         "total_waste_generated_tonne": 1084700,
         "total_waste_recycled_tonne": 466200,
         "year": 2003,
         "recycling_rate": 0.43,
         "material": "Paper",
         "energy_saved": 4100,
         "crude_oil_saved": "11 barrels",
         "total_energy_saved": 1911420000,
         "_deepnote_index_column": 11
        },
        {
         "waste_type": "Plastic",
         "total_waste_generated_tonne": 683100,
         "total_waste_recycled_tonne": 74100,
         "year": 2004,
         "recycling_rate": 0.11,
         "material": "Plastic",
         "energy_saved": 5774,
         "crude_oil_saved": "16 barrels",
         "total_energy_saved": 427853400,
         "_deepnote_index_column": 25
        },
        {
         "waste_type": "Paper",
         "total_waste_generated_tonne": 1132100,
         "total_waste_recycled_tonne": 519900,
         "year": 2004,
         "recycling_rate": 0.46,
         "material": "Paper",
         "energy_saved": 4100,
         "crude_oil_saved": "11 barrels",
         "total_energy_saved": 2131590000,
         "_deepnote_index_column": 26
        }
       ],
       "rows_bottom": null
      },
      "text/plain": "   waste_type  total_waste_generated_tonne  total_waste_recycled_tonne  year  \\\n2       Glass                        65500                      6200.0  2003   \n10    Plastic                       579900                     39100.0  2003   \n11      Paper                      1084700                    466200.0  2003   \n25    Plastic                       683100                     74100.0  2004   \n26      Paper                      1132100                    519900.0  2004   \n\n    recycling_rate material  energy_saved crude_oil_saved  total_energy_saved  \n2             0.09    Glass            42    0.12 barrels        2.604000e+05  \n10            0.07  Plastic          5774      16 barrels        2.257634e+08  \n11            0.43    Paper          4100      11 barrels        1.911420e+09  \n25            0.11  Plastic          5774      16 barrels        4.278534e+08  \n26            0.46    Paper          4100      11 barrels        2.131590e+09  ",
      "text/html": "<div>\n<style scoped>\n    .dataframe tbody tr th:only-of-type {\n        vertical-align: middle;\n    }\n\n    .dataframe tbody tr th {\n        vertical-align: top;\n    }\n\n    .dataframe thead th {\n        text-align: right;\n    }\n</style>\n<table border=\"1\" class=\"dataframe\">\n  <thead>\n    <tr style=\"text-align: right;\">\n      <th></th>\n      <th>waste_type</th>\n      <th>total_waste_generated_tonne</th>\n      <th>total_waste_recycled_tonne</th>\n      <th>year</th>\n      <th>recycling_rate</th>\n      <th>material</th>\n      <th>energy_saved</th>\n      <th>crude_oil_saved</th>\n      <th>total_energy_saved</th>\n    </tr>\n  </thead>\n  <tbody>\n    <tr>\n      <th>2</th>\n      <td>Glass</td>\n      <td>65500</td>\n      <td>6200.0</td>\n      <td>2003</td>\n      <td>0.09</td>\n      <td>Glass</td>\n      <td>42</td>\n      <td>0.12 barrels</td>\n      <td>2.604000e+05</td>\n    </tr>\n    <tr>\n      <th>10</th>\n      <td>Plastic</td>\n      <td>579900</td>\n      <td>39100.0</td>\n      <td>2003</td>\n      <td>0.07</td>\n      <td>Plastic</td>\n      <td>5774</td>\n      <td>16 barrels</td>\n      <td>2.257634e+08</td>\n    </tr>\n    <tr>\n      <th>11</th>\n      <td>Paper</td>\n      <td>1084700</td>\n      <td>466200.0</td>\n      <td>2003</td>\n      <td>0.43</td>\n      <td>Paper</td>\n      <td>4100</td>\n      <td>11 barrels</td>\n      <td>1.911420e+09</td>\n    </tr>\n    <tr>\n      <th>25</th>\n      <td>Plastic</td>\n      <td>683100</td>\n      <td>74100.0</td>\n      <td>2004</td>\n      <td>0.11</td>\n      <td>Plastic</td>\n      <td>5774</td>\n      <td>16 barrels</td>\n      <td>4.278534e+08</td>\n    </tr>\n    <tr>\n      <th>26</th>\n      <td>Paper</td>\n      <td>1132100</td>\n      <td>519900.0</td>\n      <td>2004</td>\n      <td>0.46</td>\n      <td>Paper</td>\n      <td>4100</td>\n      <td>11 barrels</td>\n      <td>2.131590e+09</td>\n    </tr>\n  </tbody>\n</table>\n</div>"
     },
     "metadata": {}
    }
   ],
   "execution_count": 12
  },
  {
   "cell_type": "markdown",
   "source": "## Visualization",
   "metadata": {
    "tags": [],
    "cell_id": "00021-697ec40e-3360-4713-8771-66b71361550c",
    "deepnote_cell_type": "markdown"
   }
  },
  {
   "cell_type": "code",
   "metadata": {
    "tags": [],
    "cell_id": "00016-e469c07c-e66b-4d5b-89a8-6b233b42223b",
    "deepnote_to_be_reexecuted": false,
    "source_hash": "8480bb4b",
    "execution_start": 1629195003030,
    "execution_millis": 2803,
    "allow_embed": "code_output",
    "deepnote_cell_type": "code"
   },
   "source": "total_data.groupby(by=[\"waste_type\"]).mean()[\n    \"recycling_rate\"\n    ].to_frame().style.\\\n    background_gradient(cmap=\"Pastel1_r\", subset=[\"recycling_rate\"])",
   "outputs": [
    {
     "output_type": "execute_result",
     "execution_count": 13,
     "data": {
      "text/plain": "<pandas.io.formats.style.Styler at 0x7f00b9dd4c90>",
      "text/html": "<style  type=\"text/css\" >\n#T_8bc18_row0_col0,#T_8bc18_row2_col0{\n            background-color:  #fbb4ae;\n            color:  #000000;\n        }#T_8bc18_row1_col0,#T_8bc18_row4_col0{\n            background-color:  #f2f2f2;\n            color:  #000000;\n        }#T_8bc18_row3_col0{\n            background-color:  #fed9a6;\n            color:  #000000;\n        }</style><table id=\"T_8bc18_\" ><thead>    <tr>        <th class=\"blank level0\" ></th>        <th class=\"col_heading level0 col0\" >recycling_rate</th>    </tr>    <tr>        <th class=\"index_name level0\" >waste_type</th>        <th class=\"blank\" ></th>    </tr></thead><tbody>\n                <tr>\n                        <th id=\"T_8bc18_level0_row0\" class=\"row_heading level0 row0\" >Ferrous Metal</th>\n                        <td id=\"T_8bc18_row0_col0\" class=\"data row0 col0\" >0.900714</td>\n            </tr>\n            <tr>\n                        <th id=\"T_8bc18_level0_row1\" class=\"row_heading level0 row1\" >Glass</th>\n                        <td id=\"T_8bc18_row1_col0\" class=\"data row1 col0\" >0.166667</td>\n            </tr>\n            <tr>\n                        <th id=\"T_8bc18_level0_row2\" class=\"row_heading level0 row2\" >Non-Ferrous Metal</th>\n                        <td id=\"T_8bc18_row2_col0\" class=\"data row2 col0\" >0.942857</td>\n            </tr>\n            <tr>\n                        <th id=\"T_8bc18_level0_row3\" class=\"row_heading level0 row3\" >Paper</th>\n                        <td id=\"T_8bc18_row3_col0\" class=\"data row3 col0\" >0.498333</td>\n            </tr>\n            <tr>\n                        <th id=\"T_8bc18_level0_row4\" class=\"row_heading level0 row4\" >Plastic</th>\n                        <td id=\"T_8bc18_row4_col0\" class=\"data row4 col0\" >0.086667</td>\n            </tr>\n    </tbody></table>"
     },
     "metadata": {}
    }
   ],
   "execution_count": 13
  },
  {
   "cell_type": "markdown",
   "source": "I wanted to check our final data for outliners and patterns. We found out that there was anomaly at year 2018 and to figure it out we have to check our dataset.",
   "metadata": {
    "tags": [],
    "cell_id": "00023-f4ff0a21-7215-4059-95b7-bb773039cc82",
    "deepnote_cell_type": "markdown"
   }
  },
  {
   "cell_type": "code",
   "metadata": {
    "tags": [],
    "cell_id": "00010-fca8a02c-bb4d-4b3d-88e1-c2c29d7d646b",
    "deepnote_to_be_reexecuted": false,
    "source_hash": "8aa33b5e",
    "execution_start": 1629195005826,
    "execution_millis": 2101,
    "allow_embed": "code_output",
    "deepnote_cell_type": "code"
   },
   "source": "fig = px.box(total_data, x=\"year\", y=\"total_waste_recycled_tonne\")\nfig.update_traces(quartilemethod=\"exclusive\")\nfig.show()\n",
   "outputs": [
    {
     "data": {
      "text/html": "<html>\n<head><meta charset=\"utf-8\" /></head>\n<body>\n    <div>            <script src=\"https://cdnjs.cloudflare.com/ajax/libs/mathjax/2.7.5/MathJax.js?config=TeX-AMS-MML_SVG\"></script><script type=\"text/javascript\">if (window.MathJax) {MathJax.Hub.Config({SVG: {font: \"STIX-Web\"}});}</script>                <script type=\"text/javascript\">window.PlotlyConfig = {MathJaxConfig: 'local'};</script>\n        <script src=\"https://cdn.plot.ly/plotly-2.2.0.min.js\"></script>                <div id=\"2ad7bc44-8828-477e-9a5c-973971d1da6a\" class=\"plotly-graph-div\" style=\"height:525px; width:100%;\"></div>            <script type=\"text/javascript\">                                    window.PLOTLYENV=window.PLOTLYENV || {};                                    if (document.getElementById(\"2ad7bc44-8828-477e-9a5c-973971d1da6a\")) {                    Plotly.newPlot(                        \"2ad7bc44-8828-477e-9a5c-973971d1da6a\",                        [{\"alignmentgroup\":\"True\",\"hovertemplate\":\"year=%{x}<br>total_waste_recycled_tonne=%{y}<extra></extra>\",\"legendgroup\":\"\",\"marker\":{\"color\":\"#636efa\"},\"name\":\"\",\"notched\":false,\"offsetgroup\":\"\",\"orientation\":\"v\",\"quartilemethod\":\"exclusive\",\"showlegend\":false,\"type\":\"box\",\"x\":[2003,2003,2003,2004,2004,2004,2005,2005,2005,2006,2006,2006,2007,2007,2007,2007,2008,2008,2008,2008,2009,2009,2009,2009,2010,2010,2010,2010,2011,2011,2011,2011,2012,2012,2012,2012,2013,2013,2013,2013,2014,2014,2014,2014,2014,2015,2015,2015,2015,2015,2016,2016,2016,2016,2016,2017,2017,2017,2017,2017,2018,2018,2018,2018,2018,2019,2019,2019,2019,2019,2020,2020,2020,2020,2020],\"x0\":\" \",\"xaxis\":\"x\",\"y\":[6200.0,39100.0,466200.0,74100.0,519900.0,4900.0,3800.0,540500.0,86000.0,77800.0,571400.0,6400.0,619000.0,75000.0,668000.0,5800.0,608600.0,61200.0,10000.0,735000.0,574200.0,60300.0,806200.0,15600.0,738200.0,78100.0,1127500.0,19200.0,21400.0,77000.0,765000.0,1171600.0,696700.0,82100.0,1331200.0,19500.0,679400.0,91100.0,1369200.0,14600.0,646500.0,1388900.0,80000.0,15700.0,94700.0,603700.0,57800.0,14600.0,160400.0,1333300.0,607100.0,59500.0,1351500.0,95900.0,14700.0,1371000.0,92200.0,568800.0,12400.0,51800.0,170000.0,41000.0,586000.0,126000.0,12000.0,1270000.0,449000.0,37000.0,124000.0,11000.0,7000.0,73000.0,36000.0,930000.0,432000.0],\"y0\":\" \",\"yaxis\":\"y\"}],                        {\"boxmode\":\"group\",\"legend\":{\"tracegroupgap\":0},\"margin\":{\"t\":60},\"template\":{\"data\":{\"bar\":[{\"error_x\":{\"color\":\"#2a3f5f\"},\"error_y\":{\"color\":\"#2a3f5f\"},\"marker\":{\"line\":{\"color\":\"#E5ECF6\",\"width\":0.5},\"pattern\":{\"fillmode\":\"overlay\",\"size\":10,\"solidity\":0.2}},\"type\":\"bar\"}],\"barpolar\":[{\"marker\":{\"line\":{\"color\":\"#E5ECF6\",\"width\":0.5},\"pattern\":{\"fillmode\":\"overlay\",\"size\":10,\"solidity\":0.2}},\"type\":\"barpolar\"}],\"carpet\":[{\"aaxis\":{\"endlinecolor\":\"#2a3f5f\",\"gridcolor\":\"white\",\"linecolor\":\"white\",\"minorgridcolor\":\"white\",\"startlinecolor\":\"#2a3f5f\"},\"baxis\":{\"endlinecolor\":\"#2a3f5f\",\"gridcolor\":\"white\",\"linecolor\":\"white\",\"minorgridcolor\":\"white\",\"startlinecolor\":\"#2a3f5f\"},\"type\":\"carpet\"}],\"choropleth\":[{\"colorbar\":{\"outlinewidth\":0,\"ticks\":\"\"},\"type\":\"choropleth\"}],\"contour\":[{\"colorbar\":{\"outlinewidth\":0,\"ticks\":\"\"},\"colorscale\":[[0.0,\"#0d0887\"],[0.1111111111111111,\"#46039f\"],[0.2222222222222222,\"#7201a8\"],[0.3333333333333333,\"#9c179e\"],[0.4444444444444444,\"#bd3786\"],[0.5555555555555556,\"#d8576b\"],[0.6666666666666666,\"#ed7953\"],[0.7777777777777778,\"#fb9f3a\"],[0.8888888888888888,\"#fdca26\"],[1.0,\"#f0f921\"]],\"type\":\"contour\"}],\"contourcarpet\":[{\"colorbar\":{\"outlinewidth\":0,\"ticks\":\"\"},\"type\":\"contourcarpet\"}],\"heatmap\":[{\"colorbar\":{\"outlinewidth\":0,\"ticks\":\"\"},\"colorscale\":[[0.0,\"#0d0887\"],[0.1111111111111111,\"#46039f\"],[0.2222222222222222,\"#7201a8\"],[0.3333333333333333,\"#9c179e\"],[0.4444444444444444,\"#bd3786\"],[0.5555555555555556,\"#d8576b\"],[0.6666666666666666,\"#ed7953\"],[0.7777777777777778,\"#fb9f3a\"],[0.8888888888888888,\"#fdca26\"],[1.0,\"#f0f921\"]],\"type\":\"heatmap\"}],\"heatmapgl\":[{\"colorbar\":{\"outlinewidth\":0,\"ticks\":\"\"},\"colorscale\":[[0.0,\"#0d0887\"],[0.1111111111111111,\"#46039f\"],[0.2222222222222222,\"#7201a8\"],[0.3333333333333333,\"#9c179e\"],[0.4444444444444444,\"#bd3786\"],[0.5555555555555556,\"#d8576b\"],[0.6666666666666666,\"#ed7953\"],[0.7777777777777778,\"#fb9f3a\"],[0.8888888888888888,\"#fdca26\"],[1.0,\"#f0f921\"]],\"type\":\"heatmapgl\"}],\"histogram\":[{\"marker\":{\"pattern\":{\"fillmode\":\"overlay\",\"size\":10,\"solidity\":0.2}},\"type\":\"histogram\"}],\"histogram2d\":[{\"colorbar\":{\"outlinewidth\":0,\"ticks\":\"\"},\"colorscale\":[[0.0,\"#0d0887\"],[0.1111111111111111,\"#46039f\"],[0.2222222222222222,\"#7201a8\"],[0.3333333333333333,\"#9c179e\"],[0.4444444444444444,\"#bd3786\"],[0.5555555555555556,\"#d8576b\"],[0.6666666666666666,\"#ed7953\"],[0.7777777777777778,\"#fb9f3a\"],[0.8888888888888888,\"#fdca26\"],[1.0,\"#f0f921\"]],\"type\":\"histogram2d\"}],\"histogram2dcontour\":[{\"colorbar\":{\"outlinewidth\":0,\"ticks\":\"\"},\"colorscale\":[[0.0,\"#0d0887\"],[0.1111111111111111,\"#46039f\"],[0.2222222222222222,\"#7201a8\"],[0.3333333333333333,\"#9c179e\"],[0.4444444444444444,\"#bd3786\"],[0.5555555555555556,\"#d8576b\"],[0.6666666666666666,\"#ed7953\"],[0.7777777777777778,\"#fb9f3a\"],[0.8888888888888888,\"#fdca26\"],[1.0,\"#f0f921\"]],\"type\":\"histogram2dcontour\"}],\"mesh3d\":[{\"colorbar\":{\"outlinewidth\":0,\"ticks\":\"\"},\"type\":\"mesh3d\"}],\"parcoords\":[{\"line\":{\"colorbar\":{\"outlinewidth\":0,\"ticks\":\"\"}},\"type\":\"parcoords\"}],\"pie\":[{\"automargin\":true,\"type\":\"pie\"}],\"scatter\":[{\"marker\":{\"colorbar\":{\"outlinewidth\":0,\"ticks\":\"\"}},\"type\":\"scatter\"}],\"scatter3d\":[{\"line\":{\"colorbar\":{\"outlinewidth\":0,\"ticks\":\"\"}},\"marker\":{\"colorbar\":{\"outlinewidth\":0,\"ticks\":\"\"}},\"type\":\"scatter3d\"}],\"scattercarpet\":[{\"marker\":{\"colorbar\":{\"outlinewidth\":0,\"ticks\":\"\"}},\"type\":\"scattercarpet\"}],\"scattergeo\":[{\"marker\":{\"colorbar\":{\"outlinewidth\":0,\"ticks\":\"\"}},\"type\":\"scattergeo\"}],\"scattergl\":[{\"marker\":{\"colorbar\":{\"outlinewidth\":0,\"ticks\":\"\"}},\"type\":\"scattergl\"}],\"scattermapbox\":[{\"marker\":{\"colorbar\":{\"outlinewidth\":0,\"ticks\":\"\"}},\"type\":\"scattermapbox\"}],\"scatterpolar\":[{\"marker\":{\"colorbar\":{\"outlinewidth\":0,\"ticks\":\"\"}},\"type\":\"scatterpolar\"}],\"scatterpolargl\":[{\"marker\":{\"colorbar\":{\"outlinewidth\":0,\"ticks\":\"\"}},\"type\":\"scatterpolargl\"}],\"scatterternary\":[{\"marker\":{\"colorbar\":{\"outlinewidth\":0,\"ticks\":\"\"}},\"type\":\"scatterternary\"}],\"surface\":[{\"colorbar\":{\"outlinewidth\":0,\"ticks\":\"\"},\"colorscale\":[[0.0,\"#0d0887\"],[0.1111111111111111,\"#46039f\"],[0.2222222222222222,\"#7201a8\"],[0.3333333333333333,\"#9c179e\"],[0.4444444444444444,\"#bd3786\"],[0.5555555555555556,\"#d8576b\"],[0.6666666666666666,\"#ed7953\"],[0.7777777777777778,\"#fb9f3a\"],[0.8888888888888888,\"#fdca26\"],[1.0,\"#f0f921\"]],\"type\":\"surface\"}],\"table\":[{\"cells\":{\"fill\":{\"color\":\"#EBF0F8\"},\"line\":{\"color\":\"white\"}},\"header\":{\"fill\":{\"color\":\"#C8D4E3\"},\"line\":{\"color\":\"white\"}},\"type\":\"table\"}]},\"layout\":{\"annotationdefaults\":{\"arrowcolor\":\"#2a3f5f\",\"arrowhead\":0,\"arrowwidth\":1},\"autotypenumbers\":\"strict\",\"coloraxis\":{\"colorbar\":{\"outlinewidth\":0,\"ticks\":\"\"}},\"colorscale\":{\"diverging\":[[0,\"#8e0152\"],[0.1,\"#c51b7d\"],[0.2,\"#de77ae\"],[0.3,\"#f1b6da\"],[0.4,\"#fde0ef\"],[0.5,\"#f7f7f7\"],[0.6,\"#e6f5d0\"],[0.7,\"#b8e186\"],[0.8,\"#7fbc41\"],[0.9,\"#4d9221\"],[1,\"#276419\"]],\"sequential\":[[0.0,\"#0d0887\"],[0.1111111111111111,\"#46039f\"],[0.2222222222222222,\"#7201a8\"],[0.3333333333333333,\"#9c179e\"],[0.4444444444444444,\"#bd3786\"],[0.5555555555555556,\"#d8576b\"],[0.6666666666666666,\"#ed7953\"],[0.7777777777777778,\"#fb9f3a\"],[0.8888888888888888,\"#fdca26\"],[1.0,\"#f0f921\"]],\"sequentialminus\":[[0.0,\"#0d0887\"],[0.1111111111111111,\"#46039f\"],[0.2222222222222222,\"#7201a8\"],[0.3333333333333333,\"#9c179e\"],[0.4444444444444444,\"#bd3786\"],[0.5555555555555556,\"#d8576b\"],[0.6666666666666666,\"#ed7953\"],[0.7777777777777778,\"#fb9f3a\"],[0.8888888888888888,\"#fdca26\"],[1.0,\"#f0f921\"]]},\"colorway\":[\"#636efa\",\"#EF553B\",\"#00cc96\",\"#ab63fa\",\"#FFA15A\",\"#19d3f3\",\"#FF6692\",\"#B6E880\",\"#FF97FF\",\"#FECB52\"],\"font\":{\"color\":\"#2a3f5f\"},\"geo\":{\"bgcolor\":\"white\",\"lakecolor\":\"white\",\"landcolor\":\"#E5ECF6\",\"showlakes\":true,\"showland\":true,\"subunitcolor\":\"white\"},\"hoverlabel\":{\"align\":\"left\"},\"hovermode\":\"closest\",\"mapbox\":{\"style\":\"light\"},\"paper_bgcolor\":\"white\",\"plot_bgcolor\":\"#E5ECF6\",\"polar\":{\"angularaxis\":{\"gridcolor\":\"white\",\"linecolor\":\"white\",\"ticks\":\"\"},\"bgcolor\":\"#E5ECF6\",\"radialaxis\":{\"gridcolor\":\"white\",\"linecolor\":\"white\",\"ticks\":\"\"}},\"scene\":{\"xaxis\":{\"backgroundcolor\":\"#E5ECF6\",\"gridcolor\":\"white\",\"gridwidth\":2,\"linecolor\":\"white\",\"showbackground\":true,\"ticks\":\"\",\"zerolinecolor\":\"white\"},\"yaxis\":{\"backgroundcolor\":\"#E5ECF6\",\"gridcolor\":\"white\",\"gridwidth\":2,\"linecolor\":\"white\",\"showbackground\":true,\"ticks\":\"\",\"zerolinecolor\":\"white\"},\"zaxis\":{\"backgroundcolor\":\"#E5ECF6\",\"gridcolor\":\"white\",\"gridwidth\":2,\"linecolor\":\"white\",\"showbackground\":true,\"ticks\":\"\",\"zerolinecolor\":\"white\"}},\"shapedefaults\":{\"line\":{\"color\":\"#2a3f5f\"}},\"ternary\":{\"aaxis\":{\"gridcolor\":\"white\",\"linecolor\":\"white\",\"ticks\":\"\"},\"baxis\":{\"gridcolor\":\"white\",\"linecolor\":\"white\",\"ticks\":\"\"},\"bgcolor\":\"#E5ECF6\",\"caxis\":{\"gridcolor\":\"white\",\"linecolor\":\"white\",\"ticks\":\"\"}},\"title\":{\"x\":0.05},\"xaxis\":{\"automargin\":true,\"gridcolor\":\"white\",\"linecolor\":\"white\",\"ticks\":\"\",\"title\":{\"standoff\":15},\"zerolinecolor\":\"white\",\"zerolinewidth\":2},\"yaxis\":{\"automargin\":true,\"gridcolor\":\"white\",\"linecolor\":\"white\",\"ticks\":\"\",\"title\":{\"standoff\":15},\"zerolinecolor\":\"white\",\"zerolinewidth\":2}}},\"xaxis\":{\"anchor\":\"y\",\"domain\":[0.0,1.0],\"title\":{\"text\":\"year\"}},\"yaxis\":{\"anchor\":\"x\",\"domain\":[0.0,1.0],\"title\":{\"text\":\"total_waste_recycled_tonne\"}}},                        {\"responsive\": true}                    ).then(function(){\n                            \nvar gd = document.getElementById('2ad7bc44-8828-477e-9a5c-973971d1da6a');\nvar x = new MutationObserver(function (mutations, observer) {{\n        var display = window.getComputedStyle(gd).display;\n        if (!display || display === 'none') {{\n            console.log([gd, 'removed!']);\n            Plotly.purge(gd);\n            observer.disconnect();\n        }}\n}});\n\n// Listen for the removal of the full notebook cells\nvar notebookContainer = gd.closest('#notebook-container');\nif (notebookContainer) {{\n    x.observe(notebookContainer, {childList: true});\n}}\n\n// Listen for the clearing of the current output cell\nvar outputEl = gd.closest('.output');\nif (outputEl) {{\n    x.observe(outputEl, {childList: true});\n}}\n\n                        })                };                            </script>        </div>\n</body>\n</html>"
     },
     "metadata": {},
     "output_type": "display_data"
    }
   ],
   "execution_count": 14
  },
  {
   "cell_type": "code",
   "metadata": {
    "tags": [],
    "cell_id": "00017-f577e7fc-02ec-4dad-be58-f84d4e9aa7a1",
    "deepnote_to_be_reexecuted": false,
    "source_hash": "fc128e6c",
    "execution_start": 1629195007923,
    "execution_millis": 51,
    "allow_embed": "code_output",
    "deepnote_cell_type": "code"
   },
   "source": "total_data[total_data['year']==2018]",
   "outputs": [
    {
     "output_type": "execute_result",
     "execution_count": 15,
     "data": {
      "application/vnd.deepnote.dataframe.v2+json": {
       "row_count": 5,
       "column_count": 9,
       "columns": [
        {
         "name": "waste_type",
         "dtype": "object",
         "stats": {
          "unique_count": 5,
          "nan_count": 0,
          "categories": [
           {
            "name": "Non-Ferrous Metal",
            "count": 1
           },
           {
            "name": "Plastic",
            "count": 1
           },
           {
            "name": "3 others",
            "count": 3
           }
          ]
         }
        },
        {
         "name": "total_waste_generated_tonne",
         "dtype": "int64",
         "stats": {
          "unique_count": 5,
          "nan_count": 0,
          "min": "64000",
          "max": "1269000",
          "histogram": [
           {
            "bin_start": 64000,
            "bin_end": 184500,
            "count": 2
           },
           {
            "bin_start": 184500,
            "bin_end": 305000,
            "count": 0
           },
           {
            "bin_start": 305000,
            "bin_end": 425500,
            "count": 0
           },
           {
            "bin_start": 425500,
            "bin_end": 546000,
            "count": 0
           },
           {
            "bin_start": 546000,
            "bin_end": 666500,
            "count": 0
           },
           {
            "bin_start": 666500,
            "bin_end": 787000,
            "count": 0
           },
           {
            "bin_start": 787000,
            "bin_end": 907500,
            "count": 0
           },
           {
            "bin_start": 907500,
            "bin_end": 1028000,
            "count": 1
           },
           {
            "bin_start": 1028000,
            "bin_end": 1148500,
            "count": 1
           },
           {
            "bin_start": 1148500,
            "bin_end": 1269000,
            "count": 1
           }
          ]
         }
        },
        {
         "name": "total_waste_recycled_tonne",
         "dtype": "float64",
         "stats": {
          "unique_count": 5,
          "nan_count": 0,
          "min": "12000.0",
          "max": "586000.0",
          "histogram": [
           {
            "bin_start": 12000,
            "bin_end": 69400,
            "count": 2
           },
           {
            "bin_start": 69400,
            "bin_end": 126800,
            "count": 1
           },
           {
            "bin_start": 126800,
            "bin_end": 184200,
            "count": 1
           },
           {
            "bin_start": 184200,
            "bin_end": 241600,
            "count": 0
           },
           {
            "bin_start": 241600,
            "bin_end": 299000,
            "count": 0
           },
           {
            "bin_start": 299000,
            "bin_end": 356400,
            "count": 0
           },
           {
            "bin_start": 356400,
            "bin_end": 413800,
            "count": 0
           },
           {
            "bin_start": 413800,
            "bin_end": 471200,
            "count": 0
           },
           {
            "bin_start": 471200,
            "bin_end": 528600,
            "count": 0
           },
           {
            "bin_start": 528600,
            "bin_end": 586000,
            "count": 1
           }
          ]
         }
        },
        {
         "name": "year",
         "dtype": "int64",
         "stats": {
          "unique_count": 1,
          "nan_count": 0,
          "min": "2018",
          "max": "2018",
          "histogram": [
           {
            "bin_start": 2017.5,
            "bin_end": 2017.6,
            "count": 0
           },
           {
            "bin_start": 2017.6,
            "bin_end": 2017.7,
            "count": 0
           },
           {
            "bin_start": 2017.7,
            "bin_end": 2017.8,
            "count": 0
           },
           {
            "bin_start": 2017.8,
            "bin_end": 2017.9,
            "count": 0
           },
           {
            "bin_start": 2017.9,
            "bin_end": 2018,
            "count": 0
           },
           {
            "bin_start": 2018,
            "bin_end": 2018.1,
            "count": 5
           },
           {
            "bin_start": 2018.1,
            "bin_end": 2018.2,
            "count": 0
           },
           {
            "bin_start": 2018.2,
            "bin_end": 2018.3,
            "count": 0
           },
           {
            "bin_start": 2018.3,
            "bin_end": 2018.4,
            "count": 0
           },
           {
            "bin_start": 2018.4,
            "bin_end": 2018.5,
            "count": 0
           }
          ]
         }
        },
        {
         "name": "recycling_rate",
         "dtype": "float64",
         "stats": {
          "unique_count": 5,
          "nan_count": 0,
          "min": "0.04",
          "max": "0.99",
          "histogram": [
           {
            "bin_start": 0.04,
            "bin_end": 0.135,
            "count": 2
           },
           {
            "bin_start": 0.135,
            "bin_end": 0.23,
            "count": 1
           },
           {
            "bin_start": 0.23,
            "bin_end": 0.325,
            "count": 0
           },
           {
            "bin_start": 0.325,
            "bin_end": 0.42,
            "count": 0
           },
           {
            "bin_start": 0.42,
            "bin_end": 0.515,
            "count": 0
           },
           {
            "bin_start": 0.515,
            "bin_end": 0.6100000000000001,
            "count": 1
           },
           {
            "bin_start": 0.6100000000000001,
            "bin_end": 0.7050000000000001,
            "count": 0
           },
           {
            "bin_start": 0.7050000000000001,
            "bin_end": 0.8,
            "count": 0
           },
           {
            "bin_start": 0.8,
            "bin_end": 0.895,
            "count": 0
           },
           {
            "bin_start": 0.895,
            "bin_end": 0.99,
            "count": 1
           }
          ]
         }
        },
        {
         "name": "material",
         "dtype": "object",
         "stats": {
          "unique_count": 5,
          "nan_count": 0,
          "categories": [
           {
            "name": "Non-Ferrous Metal",
            "count": 1
           },
           {
            "name": "Plastic",
            "count": 1
           },
           {
            "name": "3 others",
            "count": 3
           }
          ]
         }
        },
        {
         "name": "energy_saved",
         "dtype": "int64",
         "stats": {
          "unique_count": 5,
          "nan_count": 0,
          "min": "42",
          "max": "14000",
          "histogram": [
           {
            "bin_start": 42,
            "bin_end": 1437.8,
            "count": 2
           },
           {
            "bin_start": 1437.8,
            "bin_end": 2833.6,
            "count": 0
           },
           {
            "bin_start": 2833.6,
            "bin_end": 4229.4,
            "count": 1
           },
           {
            "bin_start": 4229.4,
            "bin_end": 5625.2,
            "count": 0
           },
           {
            "bin_start": 5625.2,
            "bin_end": 7021,
            "count": 1
           },
           {
            "bin_start": 7021,
            "bin_end": 8416.8,
            "count": 0
           },
           {
            "bin_start": 8416.8,
            "bin_end": 9812.6,
            "count": 0
           },
           {
            "bin_start": 9812.6,
            "bin_end": 11208.4,
            "count": 0
           },
           {
            "bin_start": 11208.4,
            "bin_end": 12604.199999999999,
            "count": 0
           },
           {
            "bin_start": 12604.199999999999,
            "bin_end": 14000,
            "count": 1
           }
          ]
         }
        },
        {
         "name": "crude_oil_saved",
         "dtype": "object",
         "stats": {
          "unique_count": 5,
          "nan_count": 0,
          "categories": [
           {
            "name": "40 barrels",
            "count": 1
           },
           {
            "name": "16 barrels",
            "count": 1
           },
           {
            "name": "3 others",
            "count": 3
           }
          ]
         }
        },
        {
         "name": "total_energy_saved",
         "dtype": "float64",
         "stats": {
          "unique_count": 5,
          "nan_count": 0,
          "min": "504000.0",
          "max": "2402600000.0",
          "histogram": [
           {
            "bin_start": 504000,
            "bin_end": 240713600,
            "count": 3
           },
           {
            "bin_start": 240713600,
            "bin_end": 480923200,
            "count": 0
           },
           {
            "bin_start": 480923200,
            "bin_end": 721132800,
            "count": 0
           },
           {
            "bin_start": 721132800,
            "bin_end": 961342400,
            "count": 0
           },
           {
            "bin_start": 961342400,
            "bin_end": 1201552000,
            "count": 0
           },
           {
            "bin_start": 1201552000,
            "bin_end": 1441761600,
            "count": 0
           },
           {
            "bin_start": 1441761600,
            "bin_end": 1681971200,
            "count": 0
           },
           {
            "bin_start": 1681971200,
            "bin_end": 1922180800,
            "count": 0
           },
           {
            "bin_start": 1922180800,
            "bin_end": 2162390400,
            "count": 0
           },
           {
            "bin_start": 2162390400,
            "bin_end": 2402600000,
            "count": 2
           }
          ]
         }
        },
        {
         "name": "_deepnote_index_column",
         "dtype": "int64"
        }
       ],
       "rows_top": [
        {
         "waste_type": "Non-Ferrous Metal",
         "total_waste_generated_tonne": 171000,
         "total_waste_recycled_tonne": 170000,
         "year": 2018,
         "recycling_rate": 0.99,
         "material": "Non-Ferrous Metal",
         "energy_saved": 14000,
         "crude_oil_saved": "40 barrels",
         "total_energy_saved": 2380000000,
         "_deepnote_index_column": 228
        },
        {
         "waste_type": "Plastic",
         "total_waste_generated_tonne": 949000,
         "total_waste_recycled_tonne": 41000,
         "year": 2018,
         "recycling_rate": 0.04,
         "material": "Plastic",
         "energy_saved": 5774,
         "crude_oil_saved": "16 barrels",
         "total_energy_saved": 236734000,
         "_deepnote_index_column": 235
        },
        {
         "waste_type": "Paper",
         "total_waste_generated_tonne": 1054000,
         "total_waste_recycled_tonne": 586000,
         "year": 2018,
         "recycling_rate": 0.56,
         "material": "Paper",
         "energy_saved": 4100,
         "crude_oil_saved": "11 barrels",
         "total_energy_saved": 2402600000,
         "_deepnote_index_column": 236
        },
        {
         "waste_type": "Ferrous Metal",
         "total_waste_generated_tonne": 1269000,
         "total_waste_recycled_tonne": 126000,
         "year": 2018,
         "recycling_rate": 0.1,
         "material": "Ferrous Metal",
         "energy_saved": 642,
         "crude_oil_saved": "1.8 barrels",
         "total_energy_saved": 80892000,
         "_deepnote_index_column": 237
        },
        {
         "waste_type": "Glass",
         "total_waste_generated_tonne": 64000,
         "total_waste_recycled_tonne": 12000,
         "year": 2018,
         "recycling_rate": 0.19,
         "material": "Glass",
         "energy_saved": 42,
         "crude_oil_saved": "0.12 barrels",
         "total_energy_saved": 504000,
         "_deepnote_index_column": 239
        }
       ],
       "rows_bottom": null
      },
      "text/plain": "            waste_type  total_waste_generated_tonne  \\\n228  Non-Ferrous Metal                       171000   \n235            Plastic                       949000   \n236              Paper                      1054000   \n237      Ferrous Metal                      1269000   \n239              Glass                        64000   \n\n     total_waste_recycled_tonne  year  recycling_rate           material  \\\n228                    170000.0  2018            0.99  Non-Ferrous Metal   \n235                     41000.0  2018            0.04            Plastic   \n236                    586000.0  2018            0.56              Paper   \n237                    126000.0  2018            0.10      Ferrous Metal   \n239                     12000.0  2018            0.19              Glass   \n\n     energy_saved crude_oil_saved  total_energy_saved  \n228         14000      40 barrels        2.380000e+09  \n235          5774      16 barrels        2.367340e+08  \n236          4100      11 barrels        2.402600e+09  \n237           642     1.8 barrels        8.089200e+07  \n239            42    0.12 barrels        5.040000e+05  ",
      "text/html": "<div>\n<style scoped>\n    .dataframe tbody tr th:only-of-type {\n        vertical-align: middle;\n    }\n\n    .dataframe tbody tr th {\n        vertical-align: top;\n    }\n\n    .dataframe thead th {\n        text-align: right;\n    }\n</style>\n<table border=\"1\" class=\"dataframe\">\n  <thead>\n    <tr style=\"text-align: right;\">\n      <th></th>\n      <th>waste_type</th>\n      <th>total_waste_generated_tonne</th>\n      <th>total_waste_recycled_tonne</th>\n      <th>year</th>\n      <th>recycling_rate</th>\n      <th>material</th>\n      <th>energy_saved</th>\n      <th>crude_oil_saved</th>\n      <th>total_energy_saved</th>\n    </tr>\n  </thead>\n  <tbody>\n    <tr>\n      <th>228</th>\n      <td>Non-Ferrous Metal</td>\n      <td>171000</td>\n      <td>170000.0</td>\n      <td>2018</td>\n      <td>0.99</td>\n      <td>Non-Ferrous Metal</td>\n      <td>14000</td>\n      <td>40 barrels</td>\n      <td>2.380000e+09</td>\n    </tr>\n    <tr>\n      <th>235</th>\n      <td>Plastic</td>\n      <td>949000</td>\n      <td>41000.0</td>\n      <td>2018</td>\n      <td>0.04</td>\n      <td>Plastic</td>\n      <td>5774</td>\n      <td>16 barrels</td>\n      <td>2.367340e+08</td>\n    </tr>\n    <tr>\n      <th>236</th>\n      <td>Paper</td>\n      <td>1054000</td>\n      <td>586000.0</td>\n      <td>2018</td>\n      <td>0.56</td>\n      <td>Paper</td>\n      <td>4100</td>\n      <td>11 barrels</td>\n      <td>2.402600e+09</td>\n    </tr>\n    <tr>\n      <th>237</th>\n      <td>Ferrous Metal</td>\n      <td>1269000</td>\n      <td>126000.0</td>\n      <td>2018</td>\n      <td>0.10</td>\n      <td>Ferrous Metal</td>\n      <td>642</td>\n      <td>1.8 barrels</td>\n      <td>8.089200e+07</td>\n    </tr>\n    <tr>\n      <th>239</th>\n      <td>Glass</td>\n      <td>64000</td>\n      <td>12000.0</td>\n      <td>2018</td>\n      <td>0.19</td>\n      <td>Glass</td>\n      <td>42</td>\n      <td>0.12 barrels</td>\n      <td>5.040000e+05</td>\n    </tr>\n  </tbody>\n</table>\n</div>"
     },
     "metadata": {}
    }
   ],
   "execution_count": 15
  },
  {
   "cell_type": "markdown",
   "source": "After going through total waste recycled of 2018, we discovered that total waste generated for Ferrous Metal was 126900 tonne but total recycled waste was 126000. As we know the mean recycling rate for Ferrous metal is 90 but it was showing 10 percent which was odd, so I went back to original data on the site and discovered the mistake. We can clearly see in the [PDF](https://www.nea.gov.sg/docs/default-source/our-services/waste-management/waste-recycling-statistics-2016-to-2019.pdf) that entire zero was missing. ",
   "metadata": {
    "tags": [],
    "cell_id": "00026-e890822e-7a84-43d2-a8c1-8885c07f37d7",
    "deepnote_cell_type": "markdown"
   }
  },
  {
   "cell_type": "code",
   "metadata": {
    "tags": [],
    "cell_id": "00017-68a3cbad-894f-4094-825b-a23e952dcf86",
    "deepnote_to_be_reexecuted": false,
    "source_hash": "d6f0e116",
    "execution_start": 1629195007982,
    "execution_millis": 68,
    "allow_embed": "code_output",
    "deepnote_cell_type": "code"
   },
   "source": "total_data.loc[237, \"total_waste_recycled_tonne\"] = 1260000\ntotal_data[\"total_energy_saved\"] = total_data.loc[:, \"total_waste_recycled_tonne\"] * (\n    total_data.loc[:, \"energy_saved\"]\n)\n\nfig = px.box(total_data, x=\"year\", y=\"total_waste_recycled_tonne\")\nfig.update_traces(quartilemethod=\"exclusive\") \nfig.show()\n",
   "outputs": [
    {
     "data": {
      "text/html": "<html>\n<head><meta charset=\"utf-8\" /></head>\n<body>\n    <div>            <script src=\"https://cdnjs.cloudflare.com/ajax/libs/mathjax/2.7.5/MathJax.js?config=TeX-AMS-MML_SVG\"></script><script type=\"text/javascript\">if (window.MathJax) {MathJax.Hub.Config({SVG: {font: \"STIX-Web\"}});}</script>                <script type=\"text/javascript\">window.PlotlyConfig = {MathJaxConfig: 'local'};</script>\n        <script src=\"https://cdn.plot.ly/plotly-2.2.0.min.js\"></script>                <div id=\"62e601f3-7583-4e4c-be7e-21c8f5800d6f\" class=\"plotly-graph-div\" style=\"height:525px; width:100%;\"></div>            <script type=\"text/javascript\">                                    window.PLOTLYENV=window.PLOTLYENV || {};                                    if (document.getElementById(\"62e601f3-7583-4e4c-be7e-21c8f5800d6f\")) {                    Plotly.newPlot(                        \"62e601f3-7583-4e4c-be7e-21c8f5800d6f\",                        [{\"alignmentgroup\":\"True\",\"hovertemplate\":\"year=%{x}<br>total_waste_recycled_tonne=%{y}<extra></extra>\",\"legendgroup\":\"\",\"marker\":{\"color\":\"#636efa\"},\"name\":\"\",\"notched\":false,\"offsetgroup\":\"\",\"orientation\":\"v\",\"quartilemethod\":\"exclusive\",\"showlegend\":false,\"type\":\"box\",\"x\":[2003,2003,2003,2004,2004,2004,2005,2005,2005,2006,2006,2006,2007,2007,2007,2007,2008,2008,2008,2008,2009,2009,2009,2009,2010,2010,2010,2010,2011,2011,2011,2011,2012,2012,2012,2012,2013,2013,2013,2013,2014,2014,2014,2014,2014,2015,2015,2015,2015,2015,2016,2016,2016,2016,2016,2017,2017,2017,2017,2017,2018,2018,2018,2018,2018,2019,2019,2019,2019,2019,2020,2020,2020,2020,2020],\"x0\":\" \",\"xaxis\":\"x\",\"y\":[6200.0,39100.0,466200.0,74100.0,519900.0,4900.0,3800.0,540500.0,86000.0,77800.0,571400.0,6400.0,619000.0,75000.0,668000.0,5800.0,608600.0,61200.0,10000.0,735000.0,574200.0,60300.0,806200.0,15600.0,738200.0,78100.0,1127500.0,19200.0,21400.0,77000.0,765000.0,1171600.0,696700.0,82100.0,1331200.0,19500.0,679400.0,91100.0,1369200.0,14600.0,646500.0,1388900.0,80000.0,15700.0,94700.0,603700.0,57800.0,14600.0,160400.0,1333300.0,607100.0,59500.0,1351500.0,95900.0,14700.0,1371000.0,92200.0,568800.0,12400.0,51800.0,170000.0,41000.0,586000.0,1260000.0,12000.0,1270000.0,449000.0,37000.0,124000.0,11000.0,7000.0,73000.0,36000.0,930000.0,432000.0],\"y0\":\" \",\"yaxis\":\"y\"}],                        {\"boxmode\":\"group\",\"legend\":{\"tracegroupgap\":0},\"margin\":{\"t\":60},\"template\":{\"data\":{\"bar\":[{\"error_x\":{\"color\":\"#2a3f5f\"},\"error_y\":{\"color\":\"#2a3f5f\"},\"marker\":{\"line\":{\"color\":\"#E5ECF6\",\"width\":0.5},\"pattern\":{\"fillmode\":\"overlay\",\"size\":10,\"solidity\":0.2}},\"type\":\"bar\"}],\"barpolar\":[{\"marker\":{\"line\":{\"color\":\"#E5ECF6\",\"width\":0.5},\"pattern\":{\"fillmode\":\"overlay\",\"size\":10,\"solidity\":0.2}},\"type\":\"barpolar\"}],\"carpet\":[{\"aaxis\":{\"endlinecolor\":\"#2a3f5f\",\"gridcolor\":\"white\",\"linecolor\":\"white\",\"minorgridcolor\":\"white\",\"startlinecolor\":\"#2a3f5f\"},\"baxis\":{\"endlinecolor\":\"#2a3f5f\",\"gridcolor\":\"white\",\"linecolor\":\"white\",\"minorgridcolor\":\"white\",\"startlinecolor\":\"#2a3f5f\"},\"type\":\"carpet\"}],\"choropleth\":[{\"colorbar\":{\"outlinewidth\":0,\"ticks\":\"\"},\"type\":\"choropleth\"}],\"contour\":[{\"colorbar\":{\"outlinewidth\":0,\"ticks\":\"\"},\"colorscale\":[[0.0,\"#0d0887\"],[0.1111111111111111,\"#46039f\"],[0.2222222222222222,\"#7201a8\"],[0.3333333333333333,\"#9c179e\"],[0.4444444444444444,\"#bd3786\"],[0.5555555555555556,\"#d8576b\"],[0.6666666666666666,\"#ed7953\"],[0.7777777777777778,\"#fb9f3a\"],[0.8888888888888888,\"#fdca26\"],[1.0,\"#f0f921\"]],\"type\":\"contour\"}],\"contourcarpet\":[{\"colorbar\":{\"outlinewidth\":0,\"ticks\":\"\"},\"type\":\"contourcarpet\"}],\"heatmap\":[{\"colorbar\":{\"outlinewidth\":0,\"ticks\":\"\"},\"colorscale\":[[0.0,\"#0d0887\"],[0.1111111111111111,\"#46039f\"],[0.2222222222222222,\"#7201a8\"],[0.3333333333333333,\"#9c179e\"],[0.4444444444444444,\"#bd3786\"],[0.5555555555555556,\"#d8576b\"],[0.6666666666666666,\"#ed7953\"],[0.7777777777777778,\"#fb9f3a\"],[0.8888888888888888,\"#fdca26\"],[1.0,\"#f0f921\"]],\"type\":\"heatmap\"}],\"heatmapgl\":[{\"colorbar\":{\"outlinewidth\":0,\"ticks\":\"\"},\"colorscale\":[[0.0,\"#0d0887\"],[0.1111111111111111,\"#46039f\"],[0.2222222222222222,\"#7201a8\"],[0.3333333333333333,\"#9c179e\"],[0.4444444444444444,\"#bd3786\"],[0.5555555555555556,\"#d8576b\"],[0.6666666666666666,\"#ed7953\"],[0.7777777777777778,\"#fb9f3a\"],[0.8888888888888888,\"#fdca26\"],[1.0,\"#f0f921\"]],\"type\":\"heatmapgl\"}],\"histogram\":[{\"marker\":{\"pattern\":{\"fillmode\":\"overlay\",\"size\":10,\"solidity\":0.2}},\"type\":\"histogram\"}],\"histogram2d\":[{\"colorbar\":{\"outlinewidth\":0,\"ticks\":\"\"},\"colorscale\":[[0.0,\"#0d0887\"],[0.1111111111111111,\"#46039f\"],[0.2222222222222222,\"#7201a8\"],[0.3333333333333333,\"#9c179e\"],[0.4444444444444444,\"#bd3786\"],[0.5555555555555556,\"#d8576b\"],[0.6666666666666666,\"#ed7953\"],[0.7777777777777778,\"#fb9f3a\"],[0.8888888888888888,\"#fdca26\"],[1.0,\"#f0f921\"]],\"type\":\"histogram2d\"}],\"histogram2dcontour\":[{\"colorbar\":{\"outlinewidth\":0,\"ticks\":\"\"},\"colorscale\":[[0.0,\"#0d0887\"],[0.1111111111111111,\"#46039f\"],[0.2222222222222222,\"#7201a8\"],[0.3333333333333333,\"#9c179e\"],[0.4444444444444444,\"#bd3786\"],[0.5555555555555556,\"#d8576b\"],[0.6666666666666666,\"#ed7953\"],[0.7777777777777778,\"#fb9f3a\"],[0.8888888888888888,\"#fdca26\"],[1.0,\"#f0f921\"]],\"type\":\"histogram2dcontour\"}],\"mesh3d\":[{\"colorbar\":{\"outlinewidth\":0,\"ticks\":\"\"},\"type\":\"mesh3d\"}],\"parcoords\":[{\"line\":{\"colorbar\":{\"outlinewidth\":0,\"ticks\":\"\"}},\"type\":\"parcoords\"}],\"pie\":[{\"automargin\":true,\"type\":\"pie\"}],\"scatter\":[{\"marker\":{\"colorbar\":{\"outlinewidth\":0,\"ticks\":\"\"}},\"type\":\"scatter\"}],\"scatter3d\":[{\"line\":{\"colorbar\":{\"outlinewidth\":0,\"ticks\":\"\"}},\"marker\":{\"colorbar\":{\"outlinewidth\":0,\"ticks\":\"\"}},\"type\":\"scatter3d\"}],\"scattercarpet\":[{\"marker\":{\"colorbar\":{\"outlinewidth\":0,\"ticks\":\"\"}},\"type\":\"scattercarpet\"}],\"scattergeo\":[{\"marker\":{\"colorbar\":{\"outlinewidth\":0,\"ticks\":\"\"}},\"type\":\"scattergeo\"}],\"scattergl\":[{\"marker\":{\"colorbar\":{\"outlinewidth\":0,\"ticks\":\"\"}},\"type\":\"scattergl\"}],\"scattermapbox\":[{\"marker\":{\"colorbar\":{\"outlinewidth\":0,\"ticks\":\"\"}},\"type\":\"scattermapbox\"}],\"scatterpolar\":[{\"marker\":{\"colorbar\":{\"outlinewidth\":0,\"ticks\":\"\"}},\"type\":\"scatterpolar\"}],\"scatterpolargl\":[{\"marker\":{\"colorbar\":{\"outlinewidth\":0,\"ticks\":\"\"}},\"type\":\"scatterpolargl\"}],\"scatterternary\":[{\"marker\":{\"colorbar\":{\"outlinewidth\":0,\"ticks\":\"\"}},\"type\":\"scatterternary\"}],\"surface\":[{\"colorbar\":{\"outlinewidth\":0,\"ticks\":\"\"},\"colorscale\":[[0.0,\"#0d0887\"],[0.1111111111111111,\"#46039f\"],[0.2222222222222222,\"#7201a8\"],[0.3333333333333333,\"#9c179e\"],[0.4444444444444444,\"#bd3786\"],[0.5555555555555556,\"#d8576b\"],[0.6666666666666666,\"#ed7953\"],[0.7777777777777778,\"#fb9f3a\"],[0.8888888888888888,\"#fdca26\"],[1.0,\"#f0f921\"]],\"type\":\"surface\"}],\"table\":[{\"cells\":{\"fill\":{\"color\":\"#EBF0F8\"},\"line\":{\"color\":\"white\"}},\"header\":{\"fill\":{\"color\":\"#C8D4E3\"},\"line\":{\"color\":\"white\"}},\"type\":\"table\"}]},\"layout\":{\"annotationdefaults\":{\"arrowcolor\":\"#2a3f5f\",\"arrowhead\":0,\"arrowwidth\":1},\"autotypenumbers\":\"strict\",\"coloraxis\":{\"colorbar\":{\"outlinewidth\":0,\"ticks\":\"\"}},\"colorscale\":{\"diverging\":[[0,\"#8e0152\"],[0.1,\"#c51b7d\"],[0.2,\"#de77ae\"],[0.3,\"#f1b6da\"],[0.4,\"#fde0ef\"],[0.5,\"#f7f7f7\"],[0.6,\"#e6f5d0\"],[0.7,\"#b8e186\"],[0.8,\"#7fbc41\"],[0.9,\"#4d9221\"],[1,\"#276419\"]],\"sequential\":[[0.0,\"#0d0887\"],[0.1111111111111111,\"#46039f\"],[0.2222222222222222,\"#7201a8\"],[0.3333333333333333,\"#9c179e\"],[0.4444444444444444,\"#bd3786\"],[0.5555555555555556,\"#d8576b\"],[0.6666666666666666,\"#ed7953\"],[0.7777777777777778,\"#fb9f3a\"],[0.8888888888888888,\"#fdca26\"],[1.0,\"#f0f921\"]],\"sequentialminus\":[[0.0,\"#0d0887\"],[0.1111111111111111,\"#46039f\"],[0.2222222222222222,\"#7201a8\"],[0.3333333333333333,\"#9c179e\"],[0.4444444444444444,\"#bd3786\"],[0.5555555555555556,\"#d8576b\"],[0.6666666666666666,\"#ed7953\"],[0.7777777777777778,\"#fb9f3a\"],[0.8888888888888888,\"#fdca26\"],[1.0,\"#f0f921\"]]},\"colorway\":[\"#636efa\",\"#EF553B\",\"#00cc96\",\"#ab63fa\",\"#FFA15A\",\"#19d3f3\",\"#FF6692\",\"#B6E880\",\"#FF97FF\",\"#FECB52\"],\"font\":{\"color\":\"#2a3f5f\"},\"geo\":{\"bgcolor\":\"white\",\"lakecolor\":\"white\",\"landcolor\":\"#E5ECF6\",\"showlakes\":true,\"showland\":true,\"subunitcolor\":\"white\"},\"hoverlabel\":{\"align\":\"left\"},\"hovermode\":\"closest\",\"mapbox\":{\"style\":\"light\"},\"paper_bgcolor\":\"white\",\"plot_bgcolor\":\"#E5ECF6\",\"polar\":{\"angularaxis\":{\"gridcolor\":\"white\",\"linecolor\":\"white\",\"ticks\":\"\"},\"bgcolor\":\"#E5ECF6\",\"radialaxis\":{\"gridcolor\":\"white\",\"linecolor\":\"white\",\"ticks\":\"\"}},\"scene\":{\"xaxis\":{\"backgroundcolor\":\"#E5ECF6\",\"gridcolor\":\"white\",\"gridwidth\":2,\"linecolor\":\"white\",\"showbackground\":true,\"ticks\":\"\",\"zerolinecolor\":\"white\"},\"yaxis\":{\"backgroundcolor\":\"#E5ECF6\",\"gridcolor\":\"white\",\"gridwidth\":2,\"linecolor\":\"white\",\"showbackground\":true,\"ticks\":\"\",\"zerolinecolor\":\"white\"},\"zaxis\":{\"backgroundcolor\":\"#E5ECF6\",\"gridcolor\":\"white\",\"gridwidth\":2,\"linecolor\":\"white\",\"showbackground\":true,\"ticks\":\"\",\"zerolinecolor\":\"white\"}},\"shapedefaults\":{\"line\":{\"color\":\"#2a3f5f\"}},\"ternary\":{\"aaxis\":{\"gridcolor\":\"white\",\"linecolor\":\"white\",\"ticks\":\"\"},\"baxis\":{\"gridcolor\":\"white\",\"linecolor\":\"white\",\"ticks\":\"\"},\"bgcolor\":\"#E5ECF6\",\"caxis\":{\"gridcolor\":\"white\",\"linecolor\":\"white\",\"ticks\":\"\"}},\"title\":{\"x\":0.05},\"xaxis\":{\"automargin\":true,\"gridcolor\":\"white\",\"linecolor\":\"white\",\"ticks\":\"\",\"title\":{\"standoff\":15},\"zerolinecolor\":\"white\",\"zerolinewidth\":2},\"yaxis\":{\"automargin\":true,\"gridcolor\":\"white\",\"linecolor\":\"white\",\"ticks\":\"\",\"title\":{\"standoff\":15},\"zerolinecolor\":\"white\",\"zerolinewidth\":2}}},\"xaxis\":{\"anchor\":\"y\",\"domain\":[0.0,1.0],\"title\":{\"text\":\"year\"}},\"yaxis\":{\"anchor\":\"x\",\"domain\":[0.0,1.0],\"title\":{\"text\":\"total_waste_recycled_tonne\"}}},                        {\"responsive\": true}                    ).then(function(){\n                            \nvar gd = document.getElementById('62e601f3-7583-4e4c-be7e-21c8f5800d6f');\nvar x = new MutationObserver(function (mutations, observer) {{\n        var display = window.getComputedStyle(gd).display;\n        if (!display || display === 'none') {{\n            console.log([gd, 'removed!']);\n            Plotly.purge(gd);\n            observer.disconnect();\n        }}\n}});\n\n// Listen for the removal of the full notebook cells\nvar notebookContainer = gd.closest('#notebook-container');\nif (notebookContainer) {{\n    x.observe(notebookContainer, {childList: true});\n}}\n\n// Listen for the clearing of the current output cell\nvar outputEl = gd.closest('.output');\nif (outputEl) {{\n    x.observe(outputEl, {childList: true});\n}}\n\n                        })                };                            </script>        </div>\n</body>\n</html>"
     },
     "metadata": {},
     "output_type": "display_data"
    }
   ],
   "execution_count": 16
  },
  {
   "cell_type": "markdown",
   "source": "The Box Plot of total energy saved is all over the place as some of the material produce higher energy kWh per metric tonne.",
   "metadata": {
    "tags": [],
    "cell_id": "00028-43f31005-1072-4ba2-b214-fcc5aef75f9e",
    "deepnote_cell_type": "markdown"
   }
  },
  {
   "cell_type": "code",
   "metadata": {
    "tags": [],
    "cell_id": "00012-fa240275-76ad-4dce-abf2-02d1bdb6d380",
    "deepnote_to_be_reexecuted": false,
    "source_hash": "ba8b3973",
    "execution_start": 1629195008088,
    "execution_millis": 42,
    "allow_embed": "code_output",
    "deepnote_cell_type": "code"
   },
   "source": "fig = px.box(total_data, x=\"year\", y=\"total_energy_saved\")\nfig.update_traces(quartilemethod=\"exclusive\") \nfig.show()",
   "outputs": [
    {
     "data": {
      "text/html": "<html>\n<head><meta charset=\"utf-8\" /></head>\n<body>\n    <div>            <script src=\"https://cdnjs.cloudflare.com/ajax/libs/mathjax/2.7.5/MathJax.js?config=TeX-AMS-MML_SVG\"></script><script type=\"text/javascript\">if (window.MathJax) {MathJax.Hub.Config({SVG: {font: \"STIX-Web\"}});}</script>                <script type=\"text/javascript\">window.PlotlyConfig = {MathJaxConfig: 'local'};</script>\n        <script src=\"https://cdn.plot.ly/plotly-2.2.0.min.js\"></script>                <div id=\"618ea599-5062-4ec8-94eb-b0a4e1472ef9\" class=\"plotly-graph-div\" style=\"height:525px; width:100%;\"></div>            <script type=\"text/javascript\">                                    window.PLOTLYENV=window.PLOTLYENV || {};                                    if (document.getElementById(\"618ea599-5062-4ec8-94eb-b0a4e1472ef9\")) {                    Plotly.newPlot(                        \"618ea599-5062-4ec8-94eb-b0a4e1472ef9\",                        [{\"alignmentgroup\":\"True\",\"hovertemplate\":\"year=%{x}<br>total_energy_saved=%{y}<extra></extra>\",\"legendgroup\":\"\",\"marker\":{\"color\":\"#636efa\"},\"name\":\"\",\"notched\":false,\"offsetgroup\":\"\",\"orientation\":\"v\",\"quartilemethod\":\"exclusive\",\"showlegend\":false,\"type\":\"box\",\"x\":[2003,2003,2003,2004,2004,2004,2005,2005,2005,2006,2006,2006,2007,2007,2007,2007,2008,2008,2008,2008,2009,2009,2009,2009,2010,2010,2010,2010,2011,2011,2011,2011,2012,2012,2012,2012,2013,2013,2013,2013,2014,2014,2014,2014,2014,2015,2015,2015,2015,2015,2016,2016,2016,2016,2016,2017,2017,2017,2017,2017,2018,2018,2018,2018,2018,2019,2019,2019,2019,2019,2020,2020,2020,2020,2020],\"x0\":\" \",\"xaxis\":\"x\",\"y\":[260400.0,225763400.0,1911420000.0,427853400.0,2131590000.0,205800.0,159600.0,2216050000.0,496564000.0,449217200.0,2342740000.0,268800.0,2537900000.0,433050000.0,428856000.0,243600.0,2495260000.0,353368800.0,420000.0,471870000.0,2354220000.0,348172200.0,517580400.0,655200.0,3026620000.0,450949400.0,723855000.0,806400.0,898800.0,444598000.0,3136500000.0,752167200.0,2856470000.0,474045400.0,854630400.0,819000.0,2785540000.0,526011400.0,879026400.0,613200.0,2650650000.0,891673800.0,461920000.0,659400.0,1325800000.0,2475170000.0,333737200.0,613200.0,2245600000.0,855978600.0,2489110000.0,343553000.0,867663000.0,1342600000.0,617400.0,880182000.0,1290800000.0,2332080000.0,520800.0,299093200.0,2380000000.0,236734000.0,2402600000.0,808920000.0,504000.0,815340000.0,1840900000.0,213638000.0,1736000000.0,462000.0,294000.0,1022000000.0,207864000.0,597060000.0,1771200000.0],\"y0\":\" \",\"yaxis\":\"y\"}],                        {\"boxmode\":\"group\",\"legend\":{\"tracegroupgap\":0},\"margin\":{\"t\":60},\"template\":{\"data\":{\"bar\":[{\"error_x\":{\"color\":\"#2a3f5f\"},\"error_y\":{\"color\":\"#2a3f5f\"},\"marker\":{\"line\":{\"color\":\"#E5ECF6\",\"width\":0.5},\"pattern\":{\"fillmode\":\"overlay\",\"size\":10,\"solidity\":0.2}},\"type\":\"bar\"}],\"barpolar\":[{\"marker\":{\"line\":{\"color\":\"#E5ECF6\",\"width\":0.5},\"pattern\":{\"fillmode\":\"overlay\",\"size\":10,\"solidity\":0.2}},\"type\":\"barpolar\"}],\"carpet\":[{\"aaxis\":{\"endlinecolor\":\"#2a3f5f\",\"gridcolor\":\"white\",\"linecolor\":\"white\",\"minorgridcolor\":\"white\",\"startlinecolor\":\"#2a3f5f\"},\"baxis\":{\"endlinecolor\":\"#2a3f5f\",\"gridcolor\":\"white\",\"linecolor\":\"white\",\"minorgridcolor\":\"white\",\"startlinecolor\":\"#2a3f5f\"},\"type\":\"carpet\"}],\"choropleth\":[{\"colorbar\":{\"outlinewidth\":0,\"ticks\":\"\"},\"type\":\"choropleth\"}],\"contour\":[{\"colorbar\":{\"outlinewidth\":0,\"ticks\":\"\"},\"colorscale\":[[0.0,\"#0d0887\"],[0.1111111111111111,\"#46039f\"],[0.2222222222222222,\"#7201a8\"],[0.3333333333333333,\"#9c179e\"],[0.4444444444444444,\"#bd3786\"],[0.5555555555555556,\"#d8576b\"],[0.6666666666666666,\"#ed7953\"],[0.7777777777777778,\"#fb9f3a\"],[0.8888888888888888,\"#fdca26\"],[1.0,\"#f0f921\"]],\"type\":\"contour\"}],\"contourcarpet\":[{\"colorbar\":{\"outlinewidth\":0,\"ticks\":\"\"},\"type\":\"contourcarpet\"}],\"heatmap\":[{\"colorbar\":{\"outlinewidth\":0,\"ticks\":\"\"},\"colorscale\":[[0.0,\"#0d0887\"],[0.1111111111111111,\"#46039f\"],[0.2222222222222222,\"#7201a8\"],[0.3333333333333333,\"#9c179e\"],[0.4444444444444444,\"#bd3786\"],[0.5555555555555556,\"#d8576b\"],[0.6666666666666666,\"#ed7953\"],[0.7777777777777778,\"#fb9f3a\"],[0.8888888888888888,\"#fdca26\"],[1.0,\"#f0f921\"]],\"type\":\"heatmap\"}],\"heatmapgl\":[{\"colorbar\":{\"outlinewidth\":0,\"ticks\":\"\"},\"colorscale\":[[0.0,\"#0d0887\"],[0.1111111111111111,\"#46039f\"],[0.2222222222222222,\"#7201a8\"],[0.3333333333333333,\"#9c179e\"],[0.4444444444444444,\"#bd3786\"],[0.5555555555555556,\"#d8576b\"],[0.6666666666666666,\"#ed7953\"],[0.7777777777777778,\"#fb9f3a\"],[0.8888888888888888,\"#fdca26\"],[1.0,\"#f0f921\"]],\"type\":\"heatmapgl\"}],\"histogram\":[{\"marker\":{\"pattern\":{\"fillmode\":\"overlay\",\"size\":10,\"solidity\":0.2}},\"type\":\"histogram\"}],\"histogram2d\":[{\"colorbar\":{\"outlinewidth\":0,\"ticks\":\"\"},\"colorscale\":[[0.0,\"#0d0887\"],[0.1111111111111111,\"#46039f\"],[0.2222222222222222,\"#7201a8\"],[0.3333333333333333,\"#9c179e\"],[0.4444444444444444,\"#bd3786\"],[0.5555555555555556,\"#d8576b\"],[0.6666666666666666,\"#ed7953\"],[0.7777777777777778,\"#fb9f3a\"],[0.8888888888888888,\"#fdca26\"],[1.0,\"#f0f921\"]],\"type\":\"histogram2d\"}],\"histogram2dcontour\":[{\"colorbar\":{\"outlinewidth\":0,\"ticks\":\"\"},\"colorscale\":[[0.0,\"#0d0887\"],[0.1111111111111111,\"#46039f\"],[0.2222222222222222,\"#7201a8\"],[0.3333333333333333,\"#9c179e\"],[0.4444444444444444,\"#bd3786\"],[0.5555555555555556,\"#d8576b\"],[0.6666666666666666,\"#ed7953\"],[0.7777777777777778,\"#fb9f3a\"],[0.8888888888888888,\"#fdca26\"],[1.0,\"#f0f921\"]],\"type\":\"histogram2dcontour\"}],\"mesh3d\":[{\"colorbar\":{\"outlinewidth\":0,\"ticks\":\"\"},\"type\":\"mesh3d\"}],\"parcoords\":[{\"line\":{\"colorbar\":{\"outlinewidth\":0,\"ticks\":\"\"}},\"type\":\"parcoords\"}],\"pie\":[{\"automargin\":true,\"type\":\"pie\"}],\"scatter\":[{\"marker\":{\"colorbar\":{\"outlinewidth\":0,\"ticks\":\"\"}},\"type\":\"scatter\"}],\"scatter3d\":[{\"line\":{\"colorbar\":{\"outlinewidth\":0,\"ticks\":\"\"}},\"marker\":{\"colorbar\":{\"outlinewidth\":0,\"ticks\":\"\"}},\"type\":\"scatter3d\"}],\"scattercarpet\":[{\"marker\":{\"colorbar\":{\"outlinewidth\":0,\"ticks\":\"\"}},\"type\":\"scattercarpet\"}],\"scattergeo\":[{\"marker\":{\"colorbar\":{\"outlinewidth\":0,\"ticks\":\"\"}},\"type\":\"scattergeo\"}],\"scattergl\":[{\"marker\":{\"colorbar\":{\"outlinewidth\":0,\"ticks\":\"\"}},\"type\":\"scattergl\"}],\"scattermapbox\":[{\"marker\":{\"colorbar\":{\"outlinewidth\":0,\"ticks\":\"\"}},\"type\":\"scattermapbox\"}],\"scatterpolar\":[{\"marker\":{\"colorbar\":{\"outlinewidth\":0,\"ticks\":\"\"}},\"type\":\"scatterpolar\"}],\"scatterpolargl\":[{\"marker\":{\"colorbar\":{\"outlinewidth\":0,\"ticks\":\"\"}},\"type\":\"scatterpolargl\"}],\"scatterternary\":[{\"marker\":{\"colorbar\":{\"outlinewidth\":0,\"ticks\":\"\"}},\"type\":\"scatterternary\"}],\"surface\":[{\"colorbar\":{\"outlinewidth\":0,\"ticks\":\"\"},\"colorscale\":[[0.0,\"#0d0887\"],[0.1111111111111111,\"#46039f\"],[0.2222222222222222,\"#7201a8\"],[0.3333333333333333,\"#9c179e\"],[0.4444444444444444,\"#bd3786\"],[0.5555555555555556,\"#d8576b\"],[0.6666666666666666,\"#ed7953\"],[0.7777777777777778,\"#fb9f3a\"],[0.8888888888888888,\"#fdca26\"],[1.0,\"#f0f921\"]],\"type\":\"surface\"}],\"table\":[{\"cells\":{\"fill\":{\"color\":\"#EBF0F8\"},\"line\":{\"color\":\"white\"}},\"header\":{\"fill\":{\"color\":\"#C8D4E3\"},\"line\":{\"color\":\"white\"}},\"type\":\"table\"}]},\"layout\":{\"annotationdefaults\":{\"arrowcolor\":\"#2a3f5f\",\"arrowhead\":0,\"arrowwidth\":1},\"autotypenumbers\":\"strict\",\"coloraxis\":{\"colorbar\":{\"outlinewidth\":0,\"ticks\":\"\"}},\"colorscale\":{\"diverging\":[[0,\"#8e0152\"],[0.1,\"#c51b7d\"],[0.2,\"#de77ae\"],[0.3,\"#f1b6da\"],[0.4,\"#fde0ef\"],[0.5,\"#f7f7f7\"],[0.6,\"#e6f5d0\"],[0.7,\"#b8e186\"],[0.8,\"#7fbc41\"],[0.9,\"#4d9221\"],[1,\"#276419\"]],\"sequential\":[[0.0,\"#0d0887\"],[0.1111111111111111,\"#46039f\"],[0.2222222222222222,\"#7201a8\"],[0.3333333333333333,\"#9c179e\"],[0.4444444444444444,\"#bd3786\"],[0.5555555555555556,\"#d8576b\"],[0.6666666666666666,\"#ed7953\"],[0.7777777777777778,\"#fb9f3a\"],[0.8888888888888888,\"#fdca26\"],[1.0,\"#f0f921\"]],\"sequentialminus\":[[0.0,\"#0d0887\"],[0.1111111111111111,\"#46039f\"],[0.2222222222222222,\"#7201a8\"],[0.3333333333333333,\"#9c179e\"],[0.4444444444444444,\"#bd3786\"],[0.5555555555555556,\"#d8576b\"],[0.6666666666666666,\"#ed7953\"],[0.7777777777777778,\"#fb9f3a\"],[0.8888888888888888,\"#fdca26\"],[1.0,\"#f0f921\"]]},\"colorway\":[\"#636efa\",\"#EF553B\",\"#00cc96\",\"#ab63fa\",\"#FFA15A\",\"#19d3f3\",\"#FF6692\",\"#B6E880\",\"#FF97FF\",\"#FECB52\"],\"font\":{\"color\":\"#2a3f5f\"},\"geo\":{\"bgcolor\":\"white\",\"lakecolor\":\"white\",\"landcolor\":\"#E5ECF6\",\"showlakes\":true,\"showland\":true,\"subunitcolor\":\"white\"},\"hoverlabel\":{\"align\":\"left\"},\"hovermode\":\"closest\",\"mapbox\":{\"style\":\"light\"},\"paper_bgcolor\":\"white\",\"plot_bgcolor\":\"#E5ECF6\",\"polar\":{\"angularaxis\":{\"gridcolor\":\"white\",\"linecolor\":\"white\",\"ticks\":\"\"},\"bgcolor\":\"#E5ECF6\",\"radialaxis\":{\"gridcolor\":\"white\",\"linecolor\":\"white\",\"ticks\":\"\"}},\"scene\":{\"xaxis\":{\"backgroundcolor\":\"#E5ECF6\",\"gridcolor\":\"white\",\"gridwidth\":2,\"linecolor\":\"white\",\"showbackground\":true,\"ticks\":\"\",\"zerolinecolor\":\"white\"},\"yaxis\":{\"backgroundcolor\":\"#E5ECF6\",\"gridcolor\":\"white\",\"gridwidth\":2,\"linecolor\":\"white\",\"showbackground\":true,\"ticks\":\"\",\"zerolinecolor\":\"white\"},\"zaxis\":{\"backgroundcolor\":\"#E5ECF6\",\"gridcolor\":\"white\",\"gridwidth\":2,\"linecolor\":\"white\",\"showbackground\":true,\"ticks\":\"\",\"zerolinecolor\":\"white\"}},\"shapedefaults\":{\"line\":{\"color\":\"#2a3f5f\"}},\"ternary\":{\"aaxis\":{\"gridcolor\":\"white\",\"linecolor\":\"white\",\"ticks\":\"\"},\"baxis\":{\"gridcolor\":\"white\",\"linecolor\":\"white\",\"ticks\":\"\"},\"bgcolor\":\"#E5ECF6\",\"caxis\":{\"gridcolor\":\"white\",\"linecolor\":\"white\",\"ticks\":\"\"}},\"title\":{\"x\":0.05},\"xaxis\":{\"automargin\":true,\"gridcolor\":\"white\",\"linecolor\":\"white\",\"ticks\":\"\",\"title\":{\"standoff\":15},\"zerolinecolor\":\"white\",\"zerolinewidth\":2},\"yaxis\":{\"automargin\":true,\"gridcolor\":\"white\",\"linecolor\":\"white\",\"ticks\":\"\",\"title\":{\"standoff\":15},\"zerolinecolor\":\"white\",\"zerolinewidth\":2}}},\"xaxis\":{\"anchor\":\"y\",\"domain\":[0.0,1.0],\"title\":{\"text\":\"year\"}},\"yaxis\":{\"anchor\":\"x\",\"domain\":[0.0,1.0],\"title\":{\"text\":\"total_energy_saved\"}}},                        {\"responsive\": true}                    ).then(function(){\n                            \nvar gd = document.getElementById('618ea599-5062-4ec8-94eb-b0a4e1472ef9');\nvar x = new MutationObserver(function (mutations, observer) {{\n        var display = window.getComputedStyle(gd).display;\n        if (!display || display === 'none') {{\n            console.log([gd, 'removed!']);\n            Plotly.purge(gd);\n            observer.disconnect();\n        }}\n}});\n\n// Listen for the removal of the full notebook cells\nvar notebookContainer = gd.closest('#notebook-container');\nif (notebookContainer) {{\n    x.observe(notebookContainer, {childList: true});\n}}\n\n// Listen for the clearing of the current output cell\nvar outputEl = gd.closest('.output');\nif (outputEl) {{\n    x.observe(outputEl, {childList: true});\n}}\n\n                        })                };                            </script>        </div>\n</body>\n</html>"
     },
     "metadata": {},
     "output_type": "display_data"
    }
   ],
   "execution_count": 17
  },
  {
   "cell_type": "markdown",
   "source": "We can interact more with our data and look for patter in multilevel scatter plot. As we can see total energy saved from paper and plastic have significantly reduce in past few years due to government initiative to control the waste produce.",
   "metadata": {
    "tags": [],
    "cell_id": "00030-6dc13a7c-c0cf-46ff-a79c-cb4085bbe1c9",
    "deepnote_cell_type": "markdown"
   }
  },
  {
   "cell_type": "code",
   "metadata": {
    "tags": [],
    "cell_id": "00013-d03464b3-4fa6-4072-883c-d444f7fdd2b7",
    "deepnote_to_be_reexecuted": false,
    "source_hash": "b3579494",
    "execution_start": 1629195008166,
    "execution_millis": 121,
    "allow_embed": "code_output",
    "deepnote_cell_type": "code"
   },
   "source": "fig = px.scatter(\n    total_data,\n    x=\"year\",\n    y=\"total_energy_saved\",\n    size=\"total_waste_recycled_tonne\",\n    color=\"material\",\n    size_max=60,\n)\nfig.show()\n",
   "outputs": [
    {
     "data": {
      "text/html": "<html>\n<head><meta charset=\"utf-8\" /></head>\n<body>\n    <div>            <script src=\"https://cdnjs.cloudflare.com/ajax/libs/mathjax/2.7.5/MathJax.js?config=TeX-AMS-MML_SVG\"></script><script type=\"text/javascript\">if (window.MathJax) {MathJax.Hub.Config({SVG: {font: \"STIX-Web\"}});}</script>                <script type=\"text/javascript\">window.PlotlyConfig = {MathJaxConfig: 'local'};</script>\n        <script src=\"https://cdn.plot.ly/plotly-2.2.0.min.js\"></script>                <div id=\"8e28c60a-4dc5-4f6b-9559-8b1d6eeef55d\" class=\"plotly-graph-div\" style=\"height:525px; width:100%;\"></div>            <script type=\"text/javascript\">                                    window.PLOTLYENV=window.PLOTLYENV || {};                                    if (document.getElementById(\"8e28c60a-4dc5-4f6b-9559-8b1d6eeef55d\")) {                    Plotly.newPlot(                        \"8e28c60a-4dc5-4f6b-9559-8b1d6eeef55d\",                        [{\"hovertemplate\":\"material=Glass<br>year=%{x}<br>total_energy_saved=%{y}<br>total_waste_recycled_tonne=%{marker.size}<extra></extra>\",\"legendgroup\":\"Glass\",\"marker\":{\"color\":\"#636efa\",\"size\":[6200.0,4900.0,3800.0,6400.0,5800.0,10000.0,15600.0,19200.0,21400.0,19500.0,14600.0,15700.0,14600.0,14700.0,12400.0,12000.0,11000.0,7000.0],\"sizemode\":\"area\",\"sizeref\":385.80555555555554,\"symbol\":\"circle\"},\"mode\":\"markers\",\"name\":\"Glass\",\"orientation\":\"v\",\"showlegend\":true,\"type\":\"scatter\",\"x\":[2003,2004,2005,2006,2007,2008,2009,2010,2011,2012,2013,2014,2015,2016,2017,2018,2019,2020],\"xaxis\":\"x\",\"y\":[260400.0,205800.0,159600.0,268800.0,243600.0,420000.0,655200.0,806400.0,898800.0,819000.0,613200.0,659400.0,613200.0,617400.0,520800.0,504000.0,462000.0,294000.0],\"yaxis\":\"y\"},{\"hovertemplate\":\"material=Plastic<br>year=%{x}<br>total_energy_saved=%{y}<br>total_waste_recycled_tonne=%{marker.size}<extra></extra>\",\"legendgroup\":\"Plastic\",\"marker\":{\"color\":\"#EF553B\",\"size\":[39100.0,74100.0,86000.0,77800.0,75000.0,61200.0,60300.0,78100.0,77000.0,82100.0,91100.0,80000.0,57800.0,59500.0,51800.0,41000.0,37000.0,36000.0],\"sizemode\":\"area\",\"sizeref\":385.80555555555554,\"symbol\":\"circle\"},\"mode\":\"markers\",\"name\":\"Plastic\",\"orientation\":\"v\",\"showlegend\":true,\"type\":\"scatter\",\"x\":[2003,2004,2005,2006,2007,2008,2009,2010,2011,2012,2013,2014,2015,2016,2017,2018,2019,2020],\"xaxis\":\"x\",\"y\":[225763400.0,427853400.0,496564000.0,449217200.0,433050000.0,353368800.0,348172200.0,450949400.0,444598000.0,474045400.0,526011400.0,461920000.0,333737200.0,343553000.0,299093200.0,236734000.0,213638000.0,207864000.0],\"yaxis\":\"y\"},{\"hovertemplate\":\"material=Paper<br>year=%{x}<br>total_energy_saved=%{y}<br>total_waste_recycled_tonne=%{marker.size}<extra></extra>\",\"legendgroup\":\"Paper\",\"marker\":{\"color\":\"#00cc96\",\"size\":[466200.0,519900.0,540500.0,571400.0,619000.0,608600.0,574200.0,738200.0,765000.0,696700.0,679400.0,646500.0,603700.0,607100.0,568800.0,586000.0,449000.0,432000.0],\"sizemode\":\"area\",\"sizeref\":385.80555555555554,\"symbol\":\"circle\"},\"mode\":\"markers\",\"name\":\"Paper\",\"orientation\":\"v\",\"showlegend\":true,\"type\":\"scatter\",\"x\":[2003,2004,2005,2006,2007,2008,2009,2010,2011,2012,2013,2014,2015,2016,2017,2018,2019,2020],\"xaxis\":\"x\",\"y\":[1911420000.0,2131590000.0,2216050000.0,2342740000.0,2537900000.0,2495260000.0,2354220000.0,3026620000.0,3136500000.0,2856470000.0,2785540000.0,2650650000.0,2475170000.0,2489110000.0,2332080000.0,2402600000.0,1840900000.0,1771200000.0],\"yaxis\":\"y\"},{\"hovertemplate\":\"material=Ferrous Metal<br>year=%{x}<br>total_energy_saved=%{y}<br>total_waste_recycled_tonne=%{marker.size}<extra></extra>\",\"legendgroup\":\"Ferrous Metal\",\"marker\":{\"color\":\"#ab63fa\",\"size\":[668000.0,735000.0,806200.0,1127500.0,1171600.0,1331200.0,1369200.0,1388900.0,1333300.0,1351500.0,1371000.0,1260000.0,1270000.0,930000.0],\"sizemode\":\"area\",\"sizeref\":385.80555555555554,\"symbol\":\"circle\"},\"mode\":\"markers\",\"name\":\"Ferrous Metal\",\"orientation\":\"v\",\"showlegend\":true,\"type\":\"scatter\",\"x\":[2007,2008,2009,2010,2011,2012,2013,2014,2015,2016,2017,2018,2019,2020],\"xaxis\":\"x\",\"y\":[428856000.0,471870000.0,517580400.0,723855000.0,752167200.0,854630400.0,879026400.0,891673800.0,855978600.0,867663000.0,880182000.0,808920000.0,815340000.0,597060000.0],\"yaxis\":\"y\"},{\"hovertemplate\":\"material=Non-Ferrous Metal<br>year=%{x}<br>total_energy_saved=%{y}<br>total_waste_recycled_tonne=%{marker.size}<extra></extra>\",\"legendgroup\":\"Non-Ferrous Metal\",\"marker\":{\"color\":\"#FFA15A\",\"size\":[94700.0,160400.0,95900.0,92200.0,170000.0,124000.0,73000.0],\"sizemode\":\"area\",\"sizeref\":385.80555555555554,\"symbol\":\"circle\"},\"mode\":\"markers\",\"name\":\"Non-Ferrous Metal\",\"orientation\":\"v\",\"showlegend\":true,\"type\":\"scatter\",\"x\":[2014,2015,2016,2017,2018,2019,2020],\"xaxis\":\"x\",\"y\":[1325800000.0,2245600000.0,1342600000.0,1290800000.0,2380000000.0,1736000000.0,1022000000.0],\"yaxis\":\"y\"}],                        {\"legend\":{\"itemsizing\":\"constant\",\"title\":{\"text\":\"material\"},\"tracegroupgap\":0},\"margin\":{\"t\":60},\"template\":{\"data\":{\"bar\":[{\"error_x\":{\"color\":\"#2a3f5f\"},\"error_y\":{\"color\":\"#2a3f5f\"},\"marker\":{\"line\":{\"color\":\"#E5ECF6\",\"width\":0.5},\"pattern\":{\"fillmode\":\"overlay\",\"size\":10,\"solidity\":0.2}},\"type\":\"bar\"}],\"barpolar\":[{\"marker\":{\"line\":{\"color\":\"#E5ECF6\",\"width\":0.5},\"pattern\":{\"fillmode\":\"overlay\",\"size\":10,\"solidity\":0.2}},\"type\":\"barpolar\"}],\"carpet\":[{\"aaxis\":{\"endlinecolor\":\"#2a3f5f\",\"gridcolor\":\"white\",\"linecolor\":\"white\",\"minorgridcolor\":\"white\",\"startlinecolor\":\"#2a3f5f\"},\"baxis\":{\"endlinecolor\":\"#2a3f5f\",\"gridcolor\":\"white\",\"linecolor\":\"white\",\"minorgridcolor\":\"white\",\"startlinecolor\":\"#2a3f5f\"},\"type\":\"carpet\"}],\"choropleth\":[{\"colorbar\":{\"outlinewidth\":0,\"ticks\":\"\"},\"type\":\"choropleth\"}],\"contour\":[{\"colorbar\":{\"outlinewidth\":0,\"ticks\":\"\"},\"colorscale\":[[0.0,\"#0d0887\"],[0.1111111111111111,\"#46039f\"],[0.2222222222222222,\"#7201a8\"],[0.3333333333333333,\"#9c179e\"],[0.4444444444444444,\"#bd3786\"],[0.5555555555555556,\"#d8576b\"],[0.6666666666666666,\"#ed7953\"],[0.7777777777777778,\"#fb9f3a\"],[0.8888888888888888,\"#fdca26\"],[1.0,\"#f0f921\"]],\"type\":\"contour\"}],\"contourcarpet\":[{\"colorbar\":{\"outlinewidth\":0,\"ticks\":\"\"},\"type\":\"contourcarpet\"}],\"heatmap\":[{\"colorbar\":{\"outlinewidth\":0,\"ticks\":\"\"},\"colorscale\":[[0.0,\"#0d0887\"],[0.1111111111111111,\"#46039f\"],[0.2222222222222222,\"#7201a8\"],[0.3333333333333333,\"#9c179e\"],[0.4444444444444444,\"#bd3786\"],[0.5555555555555556,\"#d8576b\"],[0.6666666666666666,\"#ed7953\"],[0.7777777777777778,\"#fb9f3a\"],[0.8888888888888888,\"#fdca26\"],[1.0,\"#f0f921\"]],\"type\":\"heatmap\"}],\"heatmapgl\":[{\"colorbar\":{\"outlinewidth\":0,\"ticks\":\"\"},\"colorscale\":[[0.0,\"#0d0887\"],[0.1111111111111111,\"#46039f\"],[0.2222222222222222,\"#7201a8\"],[0.3333333333333333,\"#9c179e\"],[0.4444444444444444,\"#bd3786\"],[0.5555555555555556,\"#d8576b\"],[0.6666666666666666,\"#ed7953\"],[0.7777777777777778,\"#fb9f3a\"],[0.8888888888888888,\"#fdca26\"],[1.0,\"#f0f921\"]],\"type\":\"heatmapgl\"}],\"histogram\":[{\"marker\":{\"pattern\":{\"fillmode\":\"overlay\",\"size\":10,\"solidity\":0.2}},\"type\":\"histogram\"}],\"histogram2d\":[{\"colorbar\":{\"outlinewidth\":0,\"ticks\":\"\"},\"colorscale\":[[0.0,\"#0d0887\"],[0.1111111111111111,\"#46039f\"],[0.2222222222222222,\"#7201a8\"],[0.3333333333333333,\"#9c179e\"],[0.4444444444444444,\"#bd3786\"],[0.5555555555555556,\"#d8576b\"],[0.6666666666666666,\"#ed7953\"],[0.7777777777777778,\"#fb9f3a\"],[0.8888888888888888,\"#fdca26\"],[1.0,\"#f0f921\"]],\"type\":\"histogram2d\"}],\"histogram2dcontour\":[{\"colorbar\":{\"outlinewidth\":0,\"ticks\":\"\"},\"colorscale\":[[0.0,\"#0d0887\"],[0.1111111111111111,\"#46039f\"],[0.2222222222222222,\"#7201a8\"],[0.3333333333333333,\"#9c179e\"],[0.4444444444444444,\"#bd3786\"],[0.5555555555555556,\"#d8576b\"],[0.6666666666666666,\"#ed7953\"],[0.7777777777777778,\"#fb9f3a\"],[0.8888888888888888,\"#fdca26\"],[1.0,\"#f0f921\"]],\"type\":\"histogram2dcontour\"}],\"mesh3d\":[{\"colorbar\":{\"outlinewidth\":0,\"ticks\":\"\"},\"type\":\"mesh3d\"}],\"parcoords\":[{\"line\":{\"colorbar\":{\"outlinewidth\":0,\"ticks\":\"\"}},\"type\":\"parcoords\"}],\"pie\":[{\"automargin\":true,\"type\":\"pie\"}],\"scatter\":[{\"marker\":{\"colorbar\":{\"outlinewidth\":0,\"ticks\":\"\"}},\"type\":\"scatter\"}],\"scatter3d\":[{\"line\":{\"colorbar\":{\"outlinewidth\":0,\"ticks\":\"\"}},\"marker\":{\"colorbar\":{\"outlinewidth\":0,\"ticks\":\"\"}},\"type\":\"scatter3d\"}],\"scattercarpet\":[{\"marker\":{\"colorbar\":{\"outlinewidth\":0,\"ticks\":\"\"}},\"type\":\"scattercarpet\"}],\"scattergeo\":[{\"marker\":{\"colorbar\":{\"outlinewidth\":0,\"ticks\":\"\"}},\"type\":\"scattergeo\"}],\"scattergl\":[{\"marker\":{\"colorbar\":{\"outlinewidth\":0,\"ticks\":\"\"}},\"type\":\"scattergl\"}],\"scattermapbox\":[{\"marker\":{\"colorbar\":{\"outlinewidth\":0,\"ticks\":\"\"}},\"type\":\"scattermapbox\"}],\"scatterpolar\":[{\"marker\":{\"colorbar\":{\"outlinewidth\":0,\"ticks\":\"\"}},\"type\":\"scatterpolar\"}],\"scatterpolargl\":[{\"marker\":{\"colorbar\":{\"outlinewidth\":0,\"ticks\":\"\"}},\"type\":\"scatterpolargl\"}],\"scatterternary\":[{\"marker\":{\"colorbar\":{\"outlinewidth\":0,\"ticks\":\"\"}},\"type\":\"scatterternary\"}],\"surface\":[{\"colorbar\":{\"outlinewidth\":0,\"ticks\":\"\"},\"colorscale\":[[0.0,\"#0d0887\"],[0.1111111111111111,\"#46039f\"],[0.2222222222222222,\"#7201a8\"],[0.3333333333333333,\"#9c179e\"],[0.4444444444444444,\"#bd3786\"],[0.5555555555555556,\"#d8576b\"],[0.6666666666666666,\"#ed7953\"],[0.7777777777777778,\"#fb9f3a\"],[0.8888888888888888,\"#fdca26\"],[1.0,\"#f0f921\"]],\"type\":\"surface\"}],\"table\":[{\"cells\":{\"fill\":{\"color\":\"#EBF0F8\"},\"line\":{\"color\":\"white\"}},\"header\":{\"fill\":{\"color\":\"#C8D4E3\"},\"line\":{\"color\":\"white\"}},\"type\":\"table\"}]},\"layout\":{\"annotationdefaults\":{\"arrowcolor\":\"#2a3f5f\",\"arrowhead\":0,\"arrowwidth\":1},\"autotypenumbers\":\"strict\",\"coloraxis\":{\"colorbar\":{\"outlinewidth\":0,\"ticks\":\"\"}},\"colorscale\":{\"diverging\":[[0,\"#8e0152\"],[0.1,\"#c51b7d\"],[0.2,\"#de77ae\"],[0.3,\"#f1b6da\"],[0.4,\"#fde0ef\"],[0.5,\"#f7f7f7\"],[0.6,\"#e6f5d0\"],[0.7,\"#b8e186\"],[0.8,\"#7fbc41\"],[0.9,\"#4d9221\"],[1,\"#276419\"]],\"sequential\":[[0.0,\"#0d0887\"],[0.1111111111111111,\"#46039f\"],[0.2222222222222222,\"#7201a8\"],[0.3333333333333333,\"#9c179e\"],[0.4444444444444444,\"#bd3786\"],[0.5555555555555556,\"#d8576b\"],[0.6666666666666666,\"#ed7953\"],[0.7777777777777778,\"#fb9f3a\"],[0.8888888888888888,\"#fdca26\"],[1.0,\"#f0f921\"]],\"sequentialminus\":[[0.0,\"#0d0887\"],[0.1111111111111111,\"#46039f\"],[0.2222222222222222,\"#7201a8\"],[0.3333333333333333,\"#9c179e\"],[0.4444444444444444,\"#bd3786\"],[0.5555555555555556,\"#d8576b\"],[0.6666666666666666,\"#ed7953\"],[0.7777777777777778,\"#fb9f3a\"],[0.8888888888888888,\"#fdca26\"],[1.0,\"#f0f921\"]]},\"colorway\":[\"#636efa\",\"#EF553B\",\"#00cc96\",\"#ab63fa\",\"#FFA15A\",\"#19d3f3\",\"#FF6692\",\"#B6E880\",\"#FF97FF\",\"#FECB52\"],\"font\":{\"color\":\"#2a3f5f\"},\"geo\":{\"bgcolor\":\"white\",\"lakecolor\":\"white\",\"landcolor\":\"#E5ECF6\",\"showlakes\":true,\"showland\":true,\"subunitcolor\":\"white\"},\"hoverlabel\":{\"align\":\"left\"},\"hovermode\":\"closest\",\"mapbox\":{\"style\":\"light\"},\"paper_bgcolor\":\"white\",\"plot_bgcolor\":\"#E5ECF6\",\"polar\":{\"angularaxis\":{\"gridcolor\":\"white\",\"linecolor\":\"white\",\"ticks\":\"\"},\"bgcolor\":\"#E5ECF6\",\"radialaxis\":{\"gridcolor\":\"white\",\"linecolor\":\"white\",\"ticks\":\"\"}},\"scene\":{\"xaxis\":{\"backgroundcolor\":\"#E5ECF6\",\"gridcolor\":\"white\",\"gridwidth\":2,\"linecolor\":\"white\",\"showbackground\":true,\"ticks\":\"\",\"zerolinecolor\":\"white\"},\"yaxis\":{\"backgroundcolor\":\"#E5ECF6\",\"gridcolor\":\"white\",\"gridwidth\":2,\"linecolor\":\"white\",\"showbackground\":true,\"ticks\":\"\",\"zerolinecolor\":\"white\"},\"zaxis\":{\"backgroundcolor\":\"#E5ECF6\",\"gridcolor\":\"white\",\"gridwidth\":2,\"linecolor\":\"white\",\"showbackground\":true,\"ticks\":\"\",\"zerolinecolor\":\"white\"}},\"shapedefaults\":{\"line\":{\"color\":\"#2a3f5f\"}},\"ternary\":{\"aaxis\":{\"gridcolor\":\"white\",\"linecolor\":\"white\",\"ticks\":\"\"},\"baxis\":{\"gridcolor\":\"white\",\"linecolor\":\"white\",\"ticks\":\"\"},\"bgcolor\":\"#E5ECF6\",\"caxis\":{\"gridcolor\":\"white\",\"linecolor\":\"white\",\"ticks\":\"\"}},\"title\":{\"x\":0.05},\"xaxis\":{\"automargin\":true,\"gridcolor\":\"white\",\"linecolor\":\"white\",\"ticks\":\"\",\"title\":{\"standoff\":15},\"zerolinecolor\":\"white\",\"zerolinewidth\":2},\"yaxis\":{\"automargin\":true,\"gridcolor\":\"white\",\"linecolor\":\"white\",\"ticks\":\"\",\"title\":{\"standoff\":15},\"zerolinecolor\":\"white\",\"zerolinewidth\":2}}},\"xaxis\":{\"anchor\":\"y\",\"domain\":[0.0,1.0],\"title\":{\"text\":\"year\"}},\"yaxis\":{\"anchor\":\"x\",\"domain\":[0.0,1.0],\"title\":{\"text\":\"total_energy_saved\"}}},                        {\"responsive\": true}                    ).then(function(){\n                            \nvar gd = document.getElementById('8e28c60a-4dc5-4f6b-9559-8b1d6eeef55d');\nvar x = new MutationObserver(function (mutations, observer) {{\n        var display = window.getComputedStyle(gd).display;\n        if (!display || display === 'none') {{\n            console.log([gd, 'removed!']);\n            Plotly.purge(gd);\n            observer.disconnect();\n        }}\n}});\n\n// Listen for the removal of the full notebook cells\nvar notebookContainer = gd.closest('#notebook-container');\nif (notebookContainer) {{\n    x.observe(notebookContainer, {childList: true});\n}}\n\n// Listen for the clearing of the current output cell\nvar outputEl = gd.closest('.output');\nif (outputEl) {{\n    x.observe(outputEl, {childList: true});\n}}\n\n                        })                };                            </script>        </div>\n</body>\n</html>"
     },
     "metadata": {},
     "output_type": "display_data"
    }
   ],
   "execution_count": 18
  },
  {
   "cell_type": "code",
   "metadata": {
    "dc": {
     "key": "4"
    },
    "trusted": true,
    "cell_id": "00010-804cfa86-d25b-4e7a-8eb0-0393e3c7641c",
    "deepnote_to_be_reexecuted": false,
    "source_hash": "7624fa4d",
    "execution_start": 1629195008316,
    "execution_millis": 14,
    "deepnote_cell_type": "code"
   },
   "source": "total_data.energy_saved.value_counts()",
   "outputs": [
    {
     "output_type": "execute_result",
     "execution_count": 19,
     "data": {
      "text/plain": "4100     18\n5774     18\n42       18\n642      14\n14000     7\nName: energy_saved, dtype: int64"
     },
     "metadata": {}
    }
   ],
   "execution_count": 19
  },
  {
   "cell_type": "markdown",
   "source": "## Energy saved per year\n\nits time to calculate energy saved every year from 2003 to 2020 based on five waste types, plastics, paper, glass, ferrous and non-ferrous metal. \n\n- Group by per year\n- Summarize and extract total energy saved\n- Converting it into Pandas dataframe\n- Converting `total_energy_saved`from float to integer",
   "metadata": {
    "tags": [],
    "cell_id": "00033-fecdf2af-7010-491f-812d-7b24f3eeba7a",
    "deepnote_cell_type": "markdown"
   }
  },
  {
   "cell_type": "code",
   "metadata": {
    "dc": {
     "key": "4"
    },
    "trusted": true,
    "cell_id": "00011-e9ce177e-287d-4d39-acbb-15a5ca3fffc7",
    "deepnote_to_be_reexecuted": false,
    "source_hash": "72c79e36",
    "execution_start": 1629195008317,
    "execution_millis": 0,
    "allow_embed": "code_output",
    "deepnote_cell_type": "code"
   },
   "source": "annual_energy_savings = pd.DataFrame(\n    total_data.groupby(by=[\"year\"]).sum()[\"total_energy_saved\"],\n    columns=[\"total_energy_saved\"],\n    ).astype({\"total_energy_saved\": int})\n",
   "outputs": [],
   "execution_count": 20
  },
  {
   "cell_type": "code",
   "metadata": {
    "tags": [],
    "cell_id": "00025-6786eefd-6ffd-43cd-bbf1-2e3dda262262",
    "deepnote_to_be_reexecuted": false,
    "source_hash": "a9e2cfd3",
    "execution_start": 1629195008318,
    "execution_millis": 16,
    "allow_embed": "code_output",
    "deepnote_cell_type": "code"
   },
   "source": "annual_energy_savings[\"total_energy_saved\"] = (\n    round(annual_energy_savings[\"total_energy_saved\"] / 1000000, 2)\\\n    .astype(str) + \" GWh\"\n)\nannual_energy_savings.tail()\n",
   "outputs": [
    {
     "output_type": "execute_result",
     "execution_count": 21,
     "data": {
      "application/vnd.deepnote.dataframe.v2+json": {
       "row_count": 5,
       "column_count": 1,
       "columns": [
        {
         "name": "total_energy_saved",
         "dtype": "object",
         "stats": {
          "unique_count": 5,
          "nan_count": 0,
          "categories": [
           {
            "name": "5043.54 GWh",
            "count": 1
           },
           {
            "name": "4802.68 GWh",
            "count": 1
           },
           {
            "name": "3 others",
            "count": 3
           }
          ]
         }
        },
        {
         "name": "_deepnote_index_column",
         "dtype": "int64"
        }
       ],
       "rows_top": [
        {
         "total_energy_saved": "5043.54 GWh",
         "_deepnote_index_column": 2016
        },
        {
         "total_energy_saved": "4802.68 GWh",
         "_deepnote_index_column": 2017
        },
        {
         "total_energy_saved": "5828.76 GWh",
         "_deepnote_index_column": 2018
        },
        {
         "total_energy_saved": "4606.34 GWh",
         "_deepnote_index_column": 2019
        },
        {
         "total_energy_saved": "3598.42 GWh",
         "_deepnote_index_column": 2020
        }
       ],
       "rows_bottom": null
      },
      "text/plain": "     total_energy_saved\nyear                   \n2016        5043.54 GWh\n2017        4802.68 GWh\n2018        5828.76 GWh\n2019        4606.34 GWh\n2020        3598.42 GWh",
      "text/html": "<div>\n<style scoped>\n    .dataframe tbody tr th:only-of-type {\n        vertical-align: middle;\n    }\n\n    .dataframe tbody tr th {\n        vertical-align: top;\n    }\n\n    .dataframe thead th {\n        text-align: right;\n    }\n</style>\n<table border=\"1\" class=\"dataframe\">\n  <thead>\n    <tr style=\"text-align: right;\">\n      <th></th>\n      <th>total_energy_saved</th>\n    </tr>\n    <tr>\n      <th>year</th>\n      <th></th>\n    </tr>\n  </thead>\n  <tbody>\n    <tr>\n      <th>2016</th>\n      <td>5043.54 GWh</td>\n    </tr>\n    <tr>\n      <th>2017</th>\n      <td>4802.68 GWh</td>\n    </tr>\n    <tr>\n      <th>2018</th>\n      <td>5828.76 GWh</td>\n    </tr>\n    <tr>\n      <th>2019</th>\n      <td>4606.34 GWh</td>\n    </tr>\n    <tr>\n      <th>2020</th>\n      <td>3598.42 GWh</td>\n    </tr>\n  </tbody>\n</table>\n</div>"
     },
     "metadata": {}
    }
   ],
   "execution_count": 21
  },
  {
   "cell_type": "markdown",
   "source": "<a style='text-decoration:none;line-height:16px;display:flex;color:#5B5B62;padding:10px;justify-content:end;' href='https://deepnote.com?utm_source=created-in-deepnote-cell&projectId=5e1ff06e-9b70-4e7d-a5f8-8d4643e3b557' target=\"_blank\">\n<img alt='Created in deepnote.com' style='display:inline;max-height:16px;margin:0px;margin-right:7.5px;' src='data:image/svg+xml;base64,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' > </img>\nCreated in <span style='font-weight:600;margin-left:4px;'>Deepnote</span></a>",
   "metadata": {
    "tags": [],
    "created_in_deepnote_cell": true,
    "deepnote_cell_type": "markdown"
   }
  }
 ],
 "nbformat": 4,
 "nbformat_minor": 2,
 "metadata": {
  "kernelspec": {
   "name": "python3",
   "display_name": "Python 3",
   "language": "python"
  },
  "language_info": {
   "name": "python",
   "version": "3.6.7",
   "mimetype": "text/x-python",
   "codemirror_mode": {
    "name": "ipython",
    "version": 3
   },
   "pygments_lexer": "ipython3",
   "nbconvert_exporter": "python",
   "file_extension": ".py"
  },
  "deepnote_notebook_id": "2780866b-b05c-436c-a110-d9e7be2e681a",
  "deepnote": {},
  "deepnote_execution_queue": []
 }
}